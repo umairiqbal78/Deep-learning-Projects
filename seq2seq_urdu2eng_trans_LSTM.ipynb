{
  "nbformat": 4,
  "nbformat_minor": 0,
  "metadata": {
    "colab": {
      "name": "seq2seq_urdu2eng_trans_LSTM.ipynb",
      "provenance": [],
      "collapsed_sections": [],
      "authorship_tag": "ABX9TyMClLwfYpT/T8w9ltMyhSt/",
      "include_colab_link": true
    },
    "kernelspec": {
      "name": "python3",
      "display_name": "Python 3"
    }
  },
  "cells": [
    {
      "cell_type": "markdown",
      "metadata": {
        "id": "view-in-github",
        "colab_type": "text"
      },
      "source": [
        "<a href=\"https://colab.research.google.com/github/umairiqbal78/Deep-learning-Projects/blob/main/seq2seq_urdu2eng_trans_LSTM.ipynb\" target=\"_parent\"><img src=\"https://colab.research.google.com/assets/colab-badge.svg\" alt=\"Open In Colab\"/></a>"
      ]
    },
    {
      "cell_type": "code",
      "metadata": {
        "colab": {
          "base_uri": "https://localhost:8080/"
        },
        "id": "DrtsP-uStotc",
        "outputId": "734b0346-4dec-495e-eb18-0eb4090d8de6"
      },
      "source": [
        " from google.colab import drive\n",
        "drive.mount('/content/drive')"
      ],
      "execution_count": null,
      "outputs": [
        {
          "output_type": "stream",
          "text": [
            "Mounted at /content/drive\n"
          ],
          "name": "stdout"
        }
      ]
    },
    {
      "cell_type": "code",
      "metadata": {
        "id": "rh4ohzJBtg8x"
      },
      "source": [
        "import os, sys\n",
        "\n",
        "from keras.models import Model\n",
        "from keras.layers import Input, LSTM, GRU, Dense, Embedding\n",
        "from keras.preprocessing.text import Tokenizer\n",
        "from keras.preprocessing.sequence import pad_sequences\n",
        "from keras.utils import to_categorical\n",
        "import numpy as np\n",
        "import matplotlib.pyplot as plt\n"
      ],
      "execution_count": null,
      "outputs": []
    },
    {
      "cell_type": "code",
      "metadata": {
        "id": "SpmrBLnZv2-g"
      },
      "source": [
        "try:\n",
        "  import keras.backend as K\n",
        "  if len(K.tensorflow_backend._get_available_gpus()) > 0:\n",
        "    from keras.layers import CuDNNLSTM as LSTM\n",
        "    from keras.layers import CuDNNGRU as GRU\n",
        "except:\n",
        "  pass"
      ],
      "execution_count": null,
      "outputs": []
    },
    {
      "cell_type": "code",
      "metadata": {
        "id": "A1ctoGQWtner"
      },
      "source": [
        "# some config\n",
        "BATCH_SIZE = 64  # Batch size for training.\n",
        "EPOCHS = 40  # Number of epochs to train for.\n",
        "LATENT_DIM = 256  # Latent dimensionality of the encoding space.\n",
        "NUM_SAMPLES = 10000  # Number of samples to train on.\n",
        "MAX_NUM_WORDS = 20000\n",
        "EMBEDDING_DIM = 100"
      ],
      "execution_count": null,
      "outputs": []
    },
    {
      "cell_type": "code",
      "metadata": {
        "id": "tOCoCJWhuAa3"
      },
      "source": [
        "# Where we will store the data\n",
        "input_texts = [] # sentence in original language\n",
        "target_texts = [] # sentence in target language\n",
        "target_texts_inputs = [] # sentence in target language offset by 1\n"
      ],
      "execution_count": null,
      "outputs": []
    },
    {
      "cell_type": "code",
      "metadata": {
        "colab": {
          "base_uri": "https://localhost:8080/"
        },
        "id": "KMpf00lwuDNN",
        "outputId": "d37c9db8-1787-4911-c685-8f6e30244a69"
      },
      "source": [
        "# load in the data\n",
        "# download the data at: http://www.manythings.org/anki/\n",
        "t = 0\n",
        "for line in open('/content/drive/MyDrive/language_translation/eng_to_urdu/urd.txt'):\n",
        "  # only keep a limited number of samples\n",
        "  t += 1\n",
        "  if t > NUM_SAMPLES:\n",
        "    break\n",
        "\n",
        "  # input and target are separated by tab\n",
        "  if '\\t' not in line:\n",
        "    continue\n",
        "\n",
        "  # split up the input and translation\n",
        "  input_text, translation, *rest = line.rstrip().split('\\t')\n",
        "\n",
        "  # make the target input and output\n",
        "  # recall we'll be using teacher forcing\n",
        "  target_text = translation + ' <eos>'\n",
        "  target_text_input = '<sos> ' + translation\n",
        "\n",
        "  input_texts.append(input_text)\n",
        "  target_texts.append(target_text)\n",
        "  target_texts_inputs.append(target_text_input)\n",
        "print(\"num samples:\", len(input_texts))"
      ],
      "execution_count": null,
      "outputs": [
        {
          "output_type": "stream",
          "text": [
            "num samples: 1167\n"
          ],
          "name": "stdout"
        }
      ]
    },
    {
      "cell_type": "code",
      "metadata": {
        "id": "6iNH4pFGuRB9"
      },
      "source": [
        "# tokenize the inputs\n",
        "tokenizer_inputs = Tokenizer(num_words=MAX_NUM_WORDS)\n",
        "tokenizer_inputs.fit_on_texts(input_texts)\n",
        "input_sequences = tokenizer_inputs.texts_to_sequences(input_texts)"
      ],
      "execution_count": null,
      "outputs": []
    },
    {
      "cell_type": "code",
      "metadata": {
        "colab": {
          "base_uri": "https://localhost:8080/"
        },
        "id": "QeN7dhX4uUdn",
        "outputId": "006fbf95-4b94-4b65-e468-07541a966c57"
      },
      "source": [
        "# get the word to index mapping for input language\n",
        "word2idx_inputs = tokenizer_inputs.word_index\n",
        "print('Found %s unique input tokens.' % len(word2idx_inputs))"
      ],
      "execution_count": null,
      "outputs": [
        {
          "output_type": "stream",
          "text": [
            "Found 1343 unique input tokens.\n"
          ],
          "name": "stdout"
        }
      ]
    },
    {
      "cell_type": "code",
      "metadata": {
        "colab": {
          "base_uri": "https://localhost:8080/"
        },
        "id": "wOCHMvYUuWim",
        "outputId": "10552899-dbcc-46ff-acf6-22c9f595cb76"
      },
      "source": [
        "# determine maximum length input sequence\n",
        "max_len_input = max(len(s) for s in input_sequences)\n",
        "\n",
        "# tokenize the outputs\n",
        "# don't filter out special characters\n",
        "# otherwise <sos> and <eos> won't appear\n",
        "tokenizer_outputs = Tokenizer(num_words=MAX_NUM_WORDS, filters='')\n",
        "tokenizer_outputs.fit_on_texts(target_texts + target_texts_inputs) # inefficient, oh well\n",
        "target_sequences = tokenizer_outputs.texts_to_sequences(target_texts)\n",
        "target_sequences_inputs = tokenizer_outputs.texts_to_sequences(target_texts_inputs)\n",
        "\n",
        "# get the word to index mapping for output language\n",
        "word2idx_outputs = tokenizer_outputs.word_index\n",
        "print('Found %s unique output tokens.' % len(word2idx_outputs))"
      ],
      "execution_count": null,
      "outputs": [
        {
          "output_type": "stream",
          "text": [
            "Found 1728 unique output tokens.\n"
          ],
          "name": "stdout"
        }
      ]
    },
    {
      "cell_type": "code",
      "metadata": {
        "colab": {
          "base_uri": "https://localhost:8080/"
        },
        "id": "dIzujx5JudJt",
        "outputId": "68466d7d-8c0f-49b2-a664-6f50b22b686b"
      },
      "source": [
        "# store number of output words for later\n",
        "# remember to add 1 since indexing starts at 1\n",
        "num_words_output = len(word2idx_outputs) + 1\n",
        "\n",
        "# determine maximum length output sequence\n",
        "max_len_target = max(len(s) for s in target_sequences)\n",
        "\n",
        "\n",
        "# pad the sequences\n",
        "encoder_inputs = pad_sequences(input_sequences, maxlen=max_len_input)\n",
        "print(\"encoder_inputs.shape:\", encoder_inputs.shape)\n",
        "print(\"encoder_inputs[0]:\", encoder_inputs[0])\n",
        "\n",
        "decoder_inputs = pad_sequences(target_sequences_inputs, maxlen=max_len_target, padding='post')\n",
        "print(\"decoder_inputs[0]:\", decoder_inputs[0])\n",
        "print(\"decoder_inputs.shape:\", decoder_inputs.shape)\n",
        "\n",
        "decoder_targets = pad_sequences(target_sequences, maxlen=max_len_target, padding='post')"
      ],
      "execution_count": null,
      "outputs": [
        {
          "output_type": "stream",
          "text": [
            "encoder_inputs.shape: (1167, 18)\n",
            "encoder_inputs[0]: [  0   0   0   0   0   0   0   0   0   0   0   0   0   0   0   0   0 463]\n",
            "decoder_inputs[0]: [  2 538   0   0   0   0   0   0   0   0   0   0   0   0   0   0   0   0\n",
            "   0   0   0   0]\n",
            "decoder_inputs.shape: (1167, 22)\n"
          ],
          "name": "stdout"
        }
      ]
    },
    {
      "cell_type": "code",
      "metadata": {
        "colab": {
          "base_uri": "https://localhost:8080/"
        },
        "id": "kslLBc22ujLV",
        "outputId": "75e37b56-debb-46e9-a59b-55e08d9347ba"
      },
      "source": [
        "# store all the pre-trained word vectors\n",
        "print('Loading word vectors...')\n",
        "word2vec = {}\n",
        "with open(os.path.join('/content/drive/MyDrive/Glove_embedding/glove.6B.%sd.txt' % EMBEDDING_DIM)) as f:\n",
        "  # is just a space-separated text file in the format:\n",
        "  # word vec[0] vec[1] vec[2] ...\n",
        "  for line in f:\n",
        "    values = line.split()\n",
        "    word = values[0]\n",
        "    vec = np.asarray(values[1:], dtype='float32')\n",
        "    word2vec[word] = vec\n",
        "print('Found %s word vectors.' % len(word2vec))"
      ],
      "execution_count": null,
      "outputs": [
        {
          "output_type": "stream",
          "text": [
            "Loading word vectors...\n",
            "Found 400000 word vectors.\n"
          ],
          "name": "stdout"
        }
      ]
    },
    {
      "cell_type": "code",
      "metadata": {
        "colab": {
          "base_uri": "https://localhost:8080/"
        },
        "id": "9iSDdC5Puz1t",
        "outputId": "2adcd83f-ddba-44c0-e125-eb3028bfaa66"
      },
      "source": [
        "# prepare embedding matrix\n",
        "print('Filling pre-trained embeddings...')\n",
        "num_words = min(MAX_NUM_WORDS, len(word2idx_inputs) + 1)\n",
        "embedding_matrix = np.zeros((num_words, EMBEDDING_DIM))\n",
        "for word, i in word2idx_inputs.items():\n",
        "  if i < MAX_NUM_WORDS:\n",
        "    embedding_vector = word2vec.get(word)\n",
        "    if embedding_vector is not None:\n",
        "      # words not found in embedding index will be all zeros.\n",
        "      embedding_matrix[i] = embedding_vector"
      ],
      "execution_count": null,
      "outputs": [
        {
          "output_type": "stream",
          "text": [
            "Filling pre-trained embeddings...\n"
          ],
          "name": "stdout"
        }
      ]
    },
    {
      "cell_type": "code",
      "metadata": {
        "id": "z1LBapGmu5im"
      },
      "source": [
        "# create embedding layer\n",
        "embedding_layer = Embedding(\n",
        "  num_words,\n",
        "  EMBEDDING_DIM,\n",
        "  weights=[embedding_matrix],\n",
        "  input_length=max_len_input,\n",
        "  # trainable=True\n",
        ")"
      ],
      "execution_count": null,
      "outputs": []
    },
    {
      "cell_type": "code",
      "metadata": {
        "id": "26qa8pchu9JO"
      },
      "source": [
        "# create targets, since we cannot use sparse\n",
        "# categorical cross entropy when we have sequences\n",
        "decoder_targets_one_hot = np.zeros(\n",
        "  (\n",
        "    len(input_texts),\n",
        "    max_len_target,\n",
        "    num_words_output\n",
        "  ),\n",
        "  dtype='float32'\n",
        ")"
      ],
      "execution_count": null,
      "outputs": []
    },
    {
      "cell_type": "code",
      "metadata": {
        "id": "2Y7ApqjTvBQ2"
      },
      "source": [
        "# assign the values\n",
        "for i, d in enumerate(decoder_targets):\n",
        "  for t, word in enumerate(d):\n",
        "    if word != 0:\n",
        "      decoder_targets_one_hot[i, t, word] = 1\n"
      ],
      "execution_count": null,
      "outputs": []
    },
    {
      "cell_type": "code",
      "metadata": {
        "id": "7xhp97uWvG4t"
      },
      "source": [
        "##### build the model #####\n",
        "encoder_inputs_placeholder = Input(shape=(max_len_input,))\n",
        "x = embedding_layer(encoder_inputs_placeholder)\n",
        "encoder = LSTM(\n",
        "  LATENT_DIM,\n",
        "  return_state=True,\n",
        "  # dropout=0.5 # dropout not available on gpu\n",
        ")\n",
        "encoder_outputs, h, c = encoder(x)\n",
        "# encoder_outputs, h = encoder(x) #gru\n",
        "\n",
        "# keep only the states to pass into decoder\n",
        "encoder_states = [h, c]\n",
        "# encoder_states = [state_h] # gru\n",
        "\n",
        "# Set up the decoder, using [h, c] as initial state.\n",
        "decoder_inputs_placeholder = Input(shape=(max_len_target,))\n",
        "\n",
        "# this word embedding will not use pre-trained vectors\n",
        "# although you could\n",
        "decoder_embedding = Embedding(num_words_output, EMBEDDING_DIM)\n",
        "decoder_inputs_x = decoder_embedding(decoder_inputs_placeholder)\n",
        "\n",
        "# since the decoder is a \"to-many\" model we want to have\n",
        "# return_sequences=True\n",
        "decoder_lstm = LSTM(\n",
        "  LATENT_DIM,\n",
        "  return_sequences=True,\n",
        "  return_state=True,\n",
        "  # dropout=0.5 # dropout not available on gpu\n",
        "  )\n",
        "decoder_outputs, _, _ = decoder_lstm(\n",
        "  decoder_inputs_x,\n",
        "  initial_state=encoder_states\n",
        "  )\n",
        "\n",
        "\n",
        "# decoder_outputs, _ = decoder_gru(\n",
        "#   decoder_inputs_x,\n",
        "#   initial_state=encoder_states\n",
        "# )\n",
        "\n",
        "# final dense layer for predictions\n",
        "decoder_dense = Dense(num_words_output, activation='softmax')\n",
        "decoder_outputs = decoder_dense(decoder_outputs)\n",
        "\n",
        "# Create the model object\n",
        "model = Model([encoder_inputs_placeholder, decoder_inputs_placeholder], decoder_outputs)\n",
        "\n"
      ],
      "execution_count": null,
      "outputs": []
    },
    {
      "cell_type": "code",
      "metadata": {
        "id": "HEIRDGbCvctV"
      },
      "source": [
        "def custom_loss(y_true, y_pred):\n",
        "  # both are of shape N x T x K\n",
        "  mask = K.cast(y_true > 0, dtype='float32')\n",
        "  out = mask * y_true * K.log(y_pred)\n",
        "  return -K.sum(out) / K.sum(mask)\n",
        "\n",
        "\n",
        "def acc(y_true, y_pred):\n",
        "  # both are of shape N x T x K\n",
        "  targ = K.argmax(y_true, axis=-1)\n",
        "  pred = K.argmax(y_pred, axis=-1)\n",
        "  correct = K.cast(K.equal(targ, pred), dtype='float32')\n",
        "\n",
        "  # 0 is padding, don't include those\n",
        "  mask = K.cast(K.greater(targ, 0), dtype='float32')\n",
        "  n_correct = K.sum(mask * correct)\n",
        "  n_total = K.sum(mask)\n",
        "  return n_correct / n_total"
      ],
      "execution_count": null,
      "outputs": []
    },
    {
      "cell_type": "code",
      "metadata": {
        "id": "I9yZp7KRvkOu"
      },
      "source": [
        "model.compile(optimizer='adam', loss=custom_loss, metrics=[acc])\n",
        "\n",
        "# Compile the model and train it\n",
        "# model.compile(\n",
        "#   optimizer='rmsprop',\n",
        "#   loss='categorical_crossentropy',\n",
        "#   metrics=['accuracy']\n",
        "# )"
      ],
      "execution_count": null,
      "outputs": []
    },
    {
      "cell_type": "code",
      "metadata": {
        "colab": {
          "base_uri": "https://localhost:8080/"
        },
        "id": "ZJWwSvBpvn11",
        "outputId": "3750358c-3c16-4993-9065-f4a0bb380657"
      },
      "source": [
        "r = model.fit(\n",
        "    [encoder_inputs, decoder_inputs], decoder_targets_one_hot,\n",
        "    batch_size=BATCH_SIZE,\n",
        "    epochs=EPOCHS,\n",
        "    validation_split=0.2,\n",
        "    )"
      ],
      "execution_count": null,
      "outputs": [
        {
          "output_type": "stream",
          "text": [
            "Epoch 1/40\n",
            "15/15 [==============================] - 5s 352ms/step - loss: 6.6726 - acc: 0.1452 - val_loss: 6.2448 - val_acc: 0.0974\n",
            "Epoch 2/40\n",
            "15/15 [==============================] - 5s 308ms/step - loss: 5.4939 - acc: 0.1606 - val_loss: 6.3778 - val_acc: 0.0978\n",
            "Epoch 3/40\n",
            "15/15 [==============================] - 5s 312ms/step - loss: 5.3115 - acc: 0.1619 - val_loss: 6.4186 - val_acc: 0.1026\n",
            "Epoch 4/40\n",
            "15/15 [==============================] - 5s 311ms/step - loss: 5.1997 - acc: 0.1633 - val_loss: 6.3961 - val_acc: 0.1034\n",
            "Epoch 5/40\n",
            "15/15 [==============================] - 5s 308ms/step - loss: 5.0996 - acc: 0.1652 - val_loss: 6.2717 - val_acc: 0.1135\n",
            "Epoch 6/40\n",
            "15/15 [==============================] - 5s 311ms/step - loss: 5.0026 - acc: 0.1796 - val_loss: 6.2587 - val_acc: 0.1123\n",
            "Epoch 7/40\n",
            "15/15 [==============================] - 5s 309ms/step - loss: 4.8866 - acc: 0.1824 - val_loss: 6.2122 - val_acc: 0.1110\n",
            "Epoch 8/40\n",
            "15/15 [==============================] - 5s 308ms/step - loss: 4.7834 - acc: 0.1847 - val_loss: 6.1643 - val_acc: 0.1249\n",
            "Epoch 9/40\n",
            "15/15 [==============================] - 5s 309ms/step - loss: 4.6923 - acc: 0.1974 - val_loss: 6.1593 - val_acc: 0.1268\n",
            "Epoch 10/40\n",
            "15/15 [==============================] - 5s 309ms/step - loss: 4.6082 - acc: 0.2100 - val_loss: 6.1736 - val_acc: 0.1378\n",
            "Epoch 11/40\n",
            "15/15 [==============================] - 5s 306ms/step - loss: 4.5244 - acc: 0.2241 - val_loss: 6.1774 - val_acc: 0.1407\n",
            "Epoch 12/40\n",
            "15/15 [==============================] - 5s 306ms/step - loss: 4.4446 - acc: 0.2301 - val_loss: 6.2298 - val_acc: 0.1398\n",
            "Epoch 13/40\n",
            "15/15 [==============================] - 5s 305ms/step - loss: 4.3711 - acc: 0.2351 - val_loss: 6.2379 - val_acc: 0.1423\n",
            "Epoch 14/40\n",
            "15/15 [==============================] - 5s 307ms/step - loss: 4.2967 - acc: 0.2391 - val_loss: 6.2120 - val_acc: 0.1376\n",
            "Epoch 15/40\n",
            "15/15 [==============================] - 5s 309ms/step - loss: 4.2244 - acc: 0.2424 - val_loss: 6.2747 - val_acc: 0.1347\n",
            "Epoch 16/40\n",
            "15/15 [==============================] - 5s 312ms/step - loss: 4.1456 - acc: 0.2512 - val_loss: 6.2757 - val_acc: 0.1349\n",
            "Epoch 17/40\n",
            "15/15 [==============================] - 5s 310ms/step - loss: 4.0711 - acc: 0.2557 - val_loss: 6.3087 - val_acc: 0.1357\n",
            "Epoch 18/40\n",
            "15/15 [==============================] - 5s 313ms/step - loss: 3.9939 - acc: 0.2615 - val_loss: 6.3264 - val_acc: 0.1386\n",
            "Epoch 19/40\n",
            "15/15 [==============================] - 5s 310ms/step - loss: 3.9177 - acc: 0.2667 - val_loss: 6.3352 - val_acc: 0.1393\n",
            "Epoch 20/40\n",
            "15/15 [==============================] - 5s 311ms/step - loss: 3.8433 - acc: 0.2751 - val_loss: 6.3522 - val_acc: 0.1362\n",
            "Epoch 21/40\n",
            "15/15 [==============================] - 5s 315ms/step - loss: 3.7635 - acc: 0.2809 - val_loss: 6.3710 - val_acc: 0.1396\n",
            "Epoch 22/40\n",
            "15/15 [==============================] - 5s 312ms/step - loss: 3.6837 - acc: 0.2893 - val_loss: 6.4308 - val_acc: 0.1409\n",
            "Epoch 23/40\n",
            "15/15 [==============================] - 5s 312ms/step - loss: 3.6044 - acc: 0.2986 - val_loss: 6.4326 - val_acc: 0.1436\n",
            "Epoch 24/40\n",
            "15/15 [==============================] - 5s 314ms/step - loss: 3.5197 - acc: 0.3052 - val_loss: 6.4403 - val_acc: 0.1425\n",
            "Epoch 25/40\n",
            "15/15 [==============================] - 5s 311ms/step - loss: 3.4365 - acc: 0.3225 - val_loss: 6.4594 - val_acc: 0.1424\n",
            "Epoch 26/40\n",
            "15/15 [==============================] - 5s 314ms/step - loss: 3.3533 - acc: 0.3309 - val_loss: 6.4968 - val_acc: 0.1437\n",
            "Epoch 27/40\n",
            "15/15 [==============================] - 5s 313ms/step - loss: 3.2727 - acc: 0.3451 - val_loss: 6.5200 - val_acc: 0.1418\n",
            "Epoch 28/40\n",
            "15/15 [==============================] - 5s 316ms/step - loss: 3.1862 - acc: 0.3582 - val_loss: 6.5000 - val_acc: 0.1496\n",
            "Epoch 29/40\n",
            "15/15 [==============================] - 5s 327ms/step - loss: 3.1010 - acc: 0.3747 - val_loss: 6.5703 - val_acc: 0.1449\n",
            "Epoch 30/40\n",
            "15/15 [==============================] - 5s 319ms/step - loss: 3.0152 - acc: 0.3855 - val_loss: 6.5810 - val_acc: 0.1473\n",
            "Epoch 31/40\n",
            "15/15 [==============================] - 5s 309ms/step - loss: 2.9333 - acc: 0.4022 - val_loss: 6.5953 - val_acc: 0.1453\n",
            "Epoch 32/40\n",
            "15/15 [==============================] - 5s 315ms/step - loss: 2.8520 - acc: 0.4142 - val_loss: 6.5806 - val_acc: 0.1488\n",
            "Epoch 33/40\n",
            "15/15 [==============================] - 5s 315ms/step - loss: 2.7684 - acc: 0.4260 - val_loss: 6.6028 - val_acc: 0.1556\n",
            "Epoch 34/40\n",
            "15/15 [==============================] - 5s 317ms/step - loss: 2.6872 - acc: 0.4418 - val_loss: 6.6337 - val_acc: 0.1512\n",
            "Epoch 35/40\n",
            "15/15 [==============================] - 5s 317ms/step - loss: 2.6032 - acc: 0.4557 - val_loss: 6.6487 - val_acc: 0.1561\n",
            "Epoch 36/40\n",
            "15/15 [==============================] - 5s 316ms/step - loss: 2.5261 - acc: 0.4741 - val_loss: 6.6976 - val_acc: 0.1524\n",
            "Epoch 37/40\n",
            "15/15 [==============================] - 5s 316ms/step - loss: 2.4510 - acc: 0.4876 - val_loss: 6.6964 - val_acc: 0.1540\n",
            "Epoch 38/40\n",
            "15/15 [==============================] - 5s 317ms/step - loss: 2.3758 - acc: 0.5019 - val_loss: 6.7687 - val_acc: 0.1558\n",
            "Epoch 39/40\n",
            "15/15 [==============================] - 5s 311ms/step - loss: 2.2980 - acc: 0.5181 - val_loss: 6.7612 - val_acc: 0.1599\n",
            "Epoch 40/40\n",
            "15/15 [==============================] - 5s 319ms/step - loss: 2.2174 - acc: 0.5343 - val_loss: 6.7610 - val_acc: 0.1588\n"
          ],
          "name": "stdout"
        }
      ]
    },
    {
      "cell_type": "code",
      "metadata": {
        "colab": {
          "base_uri": "https://localhost:8080/",
          "height": 513
        },
        "id": "M7JlhQmXvwS1",
        "outputId": "fb31a756-8a87-4f4b-b052-7b88ce7bbc97"
      },
      "source": [
        "# plot some data\n",
        "plt.plot(r.history['loss'], label='loss')\n",
        "plt.plot(r.history['val_loss'], label='val_loss')\n",
        "plt.legend()\n",
        "plt.show()\n",
        "\n",
        "# accuracies\n",
        "plt.plot(r.history['acc'], label='acc')\n",
        "plt.plot(r.history['val_acc'], label='val_acc')\n",
        "plt.legend()\n",
        "plt.show()\n",
        "\n",
        "# Save model\n",
        "model.save('s2s.h5')"
      ],
      "execution_count": null,
      "outputs": [
        {
          "output_type": "display_data",
          "data": {
            "image/png": "[encoded data removed]",
            "text/plain": [
              "<Figure size 432x288 with 1 Axes>"
            ]
          },
          "metadata": {
            "tags": [],
            "needs_background": "light"
          }
        },
        {
          "output_type": "display_data",
          "data": {
            "image/png": "[encoded data removed]",
            "text/plain": [
              "<Figure size 432x288 with 1 Axes>"
            ]
          },
          "metadata": {
            "tags": [],
            "needs_background": "light"
          }
        }
      ]
    },
    {
      "cell_type": "code",
      "metadata": {
        "id": "7oY3eD-lxvE-"
      },
      "source": [
        "##### Make predictions #####\n",
        "# As with the poetry example, we need to create another model\n",
        "# that can take in the RNN state and previous word as input\n",
        "# and accept a T=1 sequence.\n",
        "\n",
        "# The encoder will be stand-alone\n",
        "# From this we will get our initial decoder hidden state\n",
        "encoder_model = Model(encoder_inputs_placeholder, encoder_states)\n"
      ],
      "execution_count": null,
      "outputs": []
    },
    {
      "cell_type": "code",
      "metadata": {
        "id": "W0wVHrQkxzYs"
      },
      "source": [
        "\n",
        "decoder_state_input_h = Input(shape=(LATENT_DIM,))\n",
        "decoder_state_input_c = Input(shape=(LATENT_DIM,))\n",
        "decoder_states_inputs = [decoder_state_input_h, decoder_state_input_c]\n",
        "# decoder_states_inputs = [decoder_state_input_h] # gru\n",
        "\n",
        "decoder_inputs_single = Input(shape=(1,))\n",
        "decoder_inputs_single_x = decoder_embedding(decoder_inputs_single)"
      ],
      "execution_count": null,
      "outputs": []
    },
    {
      "cell_type": "code",
      "metadata": {
        "id": "m1rygwj_x5Xl"
      },
      "source": [
        "# this time, we want to keep the states too, to be output\n",
        "# by our sampling model\n",
        "decoder_outputs, h, c = decoder_lstm(\n",
        "  decoder_inputs_single_x,\n",
        "  initial_state=decoder_states_inputs\n",
        ")\n",
        "# decoder_outputs, state_h = decoder_lstm(\n",
        "#   decoder_inputs_single_x,\n",
        "#   initial_state=decoder_states_inputs\n",
        "# ) #gru\n",
        "decoder_states = [h, c]\n",
        "# decoder_states = [h] # gru\n",
        "decoder_outputs = decoder_dense(decoder_outputs)"
      ],
      "execution_count": null,
      "outputs": []
    },
    {
      "cell_type": "code",
      "metadata": {
        "id": "XF8Lcd3nx-mK"
      },
      "source": [
        "# The sampling model\n",
        "# inputs: y(t-1), h(t-1), c(t-1)\n",
        "# outputs: y(t), h(t), c(t)\n",
        "decoder_model = Model(\n",
        "  [decoder_inputs_single] + decoder_states_inputs, \n",
        "  [decoder_outputs] + decoder_states\n",
        ")\n"
      ],
      "execution_count": null,
      "outputs": []
    },
    {
      "cell_type": "code",
      "metadata": {
        "id": "TazzjkFkyCW0"
      },
      "source": [
        "# map indexes back into real words\n",
        "# so we can view the results\n",
        "idx2word_eng = {v:k for k, v in word2idx_inputs.items()}\n",
        "idx2word_trans = {v:k for k, v in word2idx_outputs.items()}"
      ],
      "execution_count": null,
      "outputs": []
    },
    {
      "cell_type": "code",
      "metadata": {
        "id": "Qofu4jT8yGY0"
      },
      "source": [
        "def decode_sequence(input_seq):\n",
        "  # Encode the input as state vectors.\n",
        "  states_value = encoder_model.predict(input_seq)\n",
        "\n",
        "  # Generate empty target sequence of length 1.\n",
        "  target_seq = np.zeros((1, 1))\n",
        "\n",
        "  # Populate the first character of target sequence with the start character.\n",
        "  # NOTE: tokenizer lower-cases all words\n",
        "  target_seq[0, 0] = word2idx_outputs['<sos>']\n",
        "\n",
        "  # if we get this we break\n",
        "  eos = word2idx_outputs['<eos>']\n",
        "\n",
        "  # Create the translation\n",
        "  output_sentence = []\n",
        "  for _ in range(max_len_target):\n",
        "    output_tokens, h, c = decoder_model.predict(\n",
        "      [target_seq] + states_value\n",
        "    )\n",
        "    # output_tokens, h = decoder_model.predict(\n",
        "    #     [target_seq] + states_value\n",
        "    # ) # gru\n",
        "\n",
        "    # Get next word\n",
        "    idx = np.argmax(output_tokens[0, 0, :])\n",
        "\n",
        "    # End sentence of EOS\n",
        "    if eos == idx:\n",
        "      break\n",
        "\n",
        "    word = ''\n",
        "    if idx > 0:\n",
        "      word = idx2word_trans[idx]\n",
        "      output_sentence.append(word)\n",
        "\n",
        "    # Update the decoder input\n",
        "    # which is just the word just generated\n",
        "    target_seq[0, 0] = idx\n",
        "\n",
        "    # Update states\n",
        "    states_value = [h, c]\n",
        "    # states_value = [h] # gru\n",
        "\n",
        "  return ' '.join(output_sentence)\n"
      ],
      "execution_count": null,
      "outputs": []
    },
    {
      "cell_type": "code",
      "metadata": {
        "id": "KdAHXqb0yKPV"
      },
      "source": [
        "while True:\n",
        "  # Do some test translations\n",
        "  i = np.random.choice(len(input_texts))\n",
        "  input_seq = encoder_inputs[i:i+1]\n",
        "  translation = decode_sequence(input_seq)\n",
        "  print('-')\n",
        "  print('Input:', input_texts[i])\n",
        "  print('Translation:', translation)\n",
        "\n",
        "  ans = input(\"Continue? [Y/n]\")\n",
        "  if ans and ans.lower().startswith('n'):\n",
        "    break"
      ],
      "execution_count": null,
      "outputs": []
    },
    {
      "cell_type": "code",
      "metadata": {
        "id": "etNR6kxtyO5g"
      },
      "source": [
        ""
      ],
      "execution_count": null,
      "outputs": []
    }
  ]
}