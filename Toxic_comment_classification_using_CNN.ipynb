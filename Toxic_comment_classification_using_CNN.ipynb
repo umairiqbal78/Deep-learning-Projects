{
  "nbformat": 4,
  "nbformat_minor": 0,
  "metadata": {
    "colab": {
      "name": "Toxic comment classification using CNN.ipynb",
      "provenance": [],
      "collapsed_sections": [],
      "authorship_tag": "ABX9TyM+PK11uXm+nQ2M6XDA7DLU",
      "include_colab_link": true
    },
    "kernelspec": {
      "name": "python3",
      "display_name": "Python 3"
    }
  },
  "cells": [
    {
      "cell_type": "markdown",
      "metadata": {
        "id": "view-in-github",
        "colab_type": "text"
      },
      "source": [
        "<a href=\"https://colab.research.google.com/github/umairiqbal78/Deep-learning-Projects/blob/main/Toxic_comment_classification_using_CNN.ipynb\" target=\"_parent\"><img src=\"https://colab.research.google.com/assets/colab-badge.svg\" alt=\"Open In Colab\"/></a>"
      ]
    },
    {
      "cell_type": "code",
      "metadata": {
        "id": "Pw7msn-jDa_y"
      },
      "source": [
        "import os\n",
        "import sys\n",
        "import numpy as np\n",
        "import pandas as pd\n",
        "import matplotlib.pyplot as plt\n",
        "from keras.preprocessing.text import Tokenizer\n",
        "from keras.preprocessing.sequence import pad_sequences\n",
        "from keras.layers import Dense, Input, GlobalMaxPooling1D\n",
        "from keras.layers import Conv1D, MaxPooling1D, Embedding\n",
        "from keras.models import Model\n",
        "from sklearn.metrics import roc_auc_score # auc means area under curve metric is given to us which is helpful for classification problem"
      ],
      "execution_count": 1,
      "outputs": []
    },
    {
      "cell_type": "code",
      "metadata": {
        "colab": {
          "base_uri": "https://localhost:8080/"
        },
        "id": "cMX3OrszFnNm",
        "outputId": "32e7f638-f812-4a71-9121-577853ad3f31"
      },
      "source": [
        "\n",
        "from google.colab import drive\n",
        "drive.mount('/content/drive') "
      ],
      "execution_count": 2,
      "outputs": [
        {
          "output_type": "stream",
          "text": [
            "Mounted at /content/drive\n"
          ],
          "name": "stdout"
        }
      ]
    },
    {
      "cell_type": "code",
      "metadata": {
        "id": "BiWR8ApvEG5w"
      },
      "source": [
        "# Download the data:\n",
        "# https://www.kaggle.com/c/jigsaw-toxic-comment-classification-challenge\n",
        "# Download the word vectors:\n",
        "# http://nlp.stanford.edu/data/glove.6B.zip"
      ],
      "execution_count": null,
      "outputs": []
    },
    {
      "cell_type": "code",
      "metadata": {
        "id": "agtzoYq8FCB7"
      },
      "source": [
        "# some configuration\n",
        "MAX_SEQUENCE_LENGTH = 100\n",
        "MAX_VOCAB_SIZE = 20000\n",
        "EMBEDDING_DIM = 100 #size of each word vector\n",
        "VALIDATION_SPLIT = 0.2\n",
        "BATCH_SIZE = 128\n",
        "EPOCHS = 10\n"
      ],
      "execution_count": 3,
      "outputs": []
    },
    {
      "cell_type": "code",
      "metadata": {
        "colab": {
          "base_uri": "https://localhost:8080/"
        },
        "id": "REl2cky3FFly",
        "outputId": "cd1fe4c7-5f89-45c2-e337-c49031b9f7c5"
      },
      "source": [
        "# load in pre-trained word vectors\n",
        "print('Loading word vectors...')\n",
        "word2vec = {}\n",
        "with open(os.path.join('/content/drive/MyDrive/Glove_embedding/glove.6B.%sd.txt' % EMBEDDING_DIM)) as f:\n",
        "  # is just a space-separated text file in the format:\n",
        "  # word vec[0] vec[1] vec[2] ...\n",
        "  for line in f:\n",
        "    values = line.split()\n",
        "    word = values[0]\n",
        "    vec = np.asarray(values[1:], dtype='float32')\n",
        "    word2vec[word] = vec\n",
        "print('Found %s word vectors.' % len(word2vec))\n"
      ],
      "execution_count": 5,
      "outputs": [
        {
          "output_type": "stream",
          "text": [
            "Loading word vectors...\n",
            "Found 400000 word vectors.\n"
          ],
          "name": "stdout"
        }
      ]
    },
    {
      "cell_type": "code",
      "metadata": {
        "colab": {
          "base_uri": "https://localhost:8080/"
        },
        "id": "8nucLeljGVD-",
        "outputId": "12209e2f-2db8-4e40-96d6-70fd36796a7c"
      },
      "source": [
        "# prepare text samples and their labels\n",
        "print('Loading in comments...')\n",
        "\n",
        "train = pd.read_csv(\"/content/drive/MyDrive/toxic_comments_udemy/train.csv\")\n",
        "sentences = train[\"comment_text\"].fillna(\"DUMMY_VALUE\").values\n",
        "possible_labels = [\"toxic\", \"severe_toxic\", \"obscene\", \"threat\", \"insult\", \"identity_hate\"]\n",
        "targets = train[possible_labels].values\n",
        "len(targets)\n"
      ],
      "execution_count": 6,
      "outputs": [
        {
          "output_type": "stream",
          "text": [
            "Loading in comments...\n"
          ],
          "name": "stdout"
        },
        {
          "output_type": "execute_result",
          "data": {
            "text/plain": [
              "159571"
            ]
          },
          "metadata": {
            "tags": []
          },
          "execution_count": 6
        }
      ]
    },
    {
      "cell_type": "code",
      "metadata": {
        "id": "eRqSeRS0HEd6"
      },
      "source": [
        "\n",
        "# convert the sentences (strings) into integers\n",
        "tokenizer = Tokenizer(num_words=MAX_VOCAB_SIZE)\n",
        "tokenizer.fit_on_texts(sentences)\n",
        "sequences = tokenizer.texts_to_sequences(sentences)\n",
        "# print(\"sequences:\", sequences); exit()"
      ],
      "execution_count": 7,
      "outputs": []
    },
    {
      "cell_type": "code",
      "metadata": {
        "id": "2p58EjA_HUHw",
        "colab": {
          "base_uri": "https://localhost:8080/"
        },
        "outputId": "72eb04db-9bd9-4609-8c3f-05682a1e8362"
      },
      "source": [
        "print(\"max sequence length:\", max(len(s) for s in sequences))\n",
        "print(\"min sequence length:\", min(len(s) for s in sequences))\n",
        "s = sorted(len(s) for s in sequences)\n",
        "print(\"median sequence length:\", s[len(s) // 2])\n",
        "\n",
        "print(\"max word index:\", max(max(seq) for seq in sequences if len(seq) > 0))\n"
      ],
      "execution_count": 8,
      "outputs": [
        {
          "output_type": "stream",
          "text": [
            "max sequence length: 1400\n",
            "min sequence length: 0\n",
            "median sequence length: 35\n",
            "max word index: 19999\n"
          ],
          "name": "stdout"
        }
      ]
    },
    {
      "cell_type": "code",
      "metadata": {
        "colab": {
          "base_uri": "https://localhost:8080/"
        },
        "id": "K79V3cxQ8Udu",
        "outputId": "be27e0f0-57a5-4509-9453-88c914a4795f"
      },
      "source": [
        "# get word -> integer mapping\n",
        "word2idx = tokenizer.word_index\n",
        "print('Found %s unique tokens.' % len(word2idx))\n",
        "\n",
        "# exit()"
      ],
      "execution_count": 9,
      "outputs": [
        {
          "output_type": "stream",
          "text": [
            "Found 210337 unique tokens.\n"
          ],
          "name": "stdout"
        }
      ]
    },
    {
      "cell_type": "code",
      "metadata": {
        "colab": {
          "base_uri": "https://localhost:8080/"
        },
        "id": "2ibXPIen8wRt",
        "outputId": "d2cf874f-e798-4ca0-91e8-f37b96fd7cd2"
      },
      "source": [
        "# pad sequences so that we get a N x T matrix\n",
        "data = pad_sequences(sequences, maxlen=MAX_SEQUENCE_LENGTH)\n",
        "print('Shape of data tensor:', data.shape)"
      ],
      "execution_count": 10,
      "outputs": [
        {
          "output_type": "stream",
          "text": [
            "Shape of data tensor: (159571, 100)\n"
          ],
          "name": "stdout"
        }
      ]
    },
    {
      "cell_type": "code",
      "metadata": {
        "colab": {
          "base_uri": "https://localhost:8080/"
        },
        "id": "CA55gkxt8yuW",
        "outputId": "6838b2ef-493c-49ad-ea27-ef5c92baf333"
      },
      "source": [
        "# prepare embedding matrix\n",
        "print('Filling pre-trained embeddings...')\n",
        "num_words = min(MAX_VOCAB_SIZE, len(word2idx) + 1)\n",
        "embedding_matrix = np.zeros((num_words, EMBEDDING_DIM))\n",
        "for word, i in word2idx.items():\n",
        "  if i < MAX_VOCAB_SIZE: \n",
        "    embedding_vector = word2vec.get(word)\n",
        "    if embedding_vector is not None:\n",
        "      # words not found in embedding index will be all zeros.\n",
        "      embedding_matrix[i] = embedding_vector"
      ],
      "execution_count": 11,
      "outputs": [
        {
          "output_type": "stream",
          "text": [
            "Filling pre-trained embeddings...\n"
          ],
          "name": "stdout"
        }
      ]
    },
    {
      "cell_type": "code",
      "metadata": {
        "id": "XgLdaB-V86Qn"
      },
      "source": [
        "# load pre-trained word embeddings into an Embedding layer\n",
        "# note that we set trainable = False so as to keep the embeddings fixed\n",
        "embedding_layer = Embedding(\n",
        "  num_words,\n",
        "  EMBEDDING_DIM,\n",
        "  weights=[embedding_matrix],\n",
        "  input_length=MAX_SEQUENCE_LENGTH,\n",
        "  trainable=False\n",
        ")"
      ],
      "execution_count": 12,
      "outputs": []
    },
    {
      "cell_type": "code",
      "metadata": {
        "colab": {
          "base_uri": "https://localhost:8080/"
        },
        "id": "ewrlm4fK_nMD",
        "outputId": "0fc72d2e-9d3c-4bde-d41b-55b311abfb3b"
      },
      "source": [
        "print('Building model...')\n",
        "\n",
        "# train a 1D convnet with global maxpooling\n",
        "input_ = Input(shape=(MAX_SEQUENCE_LENGTH,))\n",
        "x = embedding_layer(input_)\n",
        "x = Conv1D(128, 3, activation='relu')(x)\n",
        "x = MaxPooling1D(3)(x)\n",
        "x = Conv1D(128, 3, activation='relu')(x)\n",
        "x = MaxPooling1D(3)(x)\n",
        "x = Conv1D(128, 3, activation='relu')(x)\n",
        "x = GlobalMaxPooling1D()(x)\n",
        "x = Dense(128, activation='relu')(x)\n",
        "output = Dense(len(possible_labels), activation='sigmoid')(x)"
      ],
      "execution_count": 13,
      "outputs": [
        {
          "output_type": "stream",
          "text": [
            "Building model...\n"
          ],
          "name": "stdout"
        }
      ]
    },
    {
      "cell_type": "code",
      "metadata": {
        "id": "iEoBe01Y_qoQ"
      },
      "source": [
        "model = Model(input_, output)\n",
        "model.compile(\n",
        "  loss='binary_crossentropy',\n",
        "  optimizer='rmsprop',\n",
        "  metrics=['accuracy']\n",
        ")"
      ],
      "execution_count": 14,
      "outputs": []
    },
    {
      "cell_type": "code",
      "metadata": {
        "colab": {
          "base_uri": "https://localhost:8080/"
        },
        "id": "CdCFRDMI_vfo",
        "outputId": "fbbd5e40-bd31-477a-a0d0-03310045bf02"
      },
      "source": [
        "print('Training model...')\n",
        "r = model.fit(\n",
        "  data,\n",
        "  targets,\n",
        "  batch_size=BATCH_SIZE,\n",
        "  epochs=EPOCHS,\n",
        "  validation_split=VALIDATION_SPLIT\n",
        ")"
      ],
      "execution_count": 15,
      "outputs": [
        {
          "output_type": "stream",
          "text": [
            "Training model...\n",
            "Epoch 1/10\n",
            "998/998 [==============================] - 104s 104ms/step - loss: 0.0842 - accuracy: 0.9783 - val_loss: 0.0731 - val_accuracy: 0.9941\n",
            "Epoch 2/10\n",
            "998/998 [==============================] - 103s 103ms/step - loss: 0.0674 - accuracy: 0.9930 - val_loss: 0.0687 - val_accuracy: 0.9941\n",
            "Epoch 3/10\n",
            "998/998 [==============================] - 103s 104ms/step - loss: 0.0635 - accuracy: 0.9939 - val_loss: 0.0667 - val_accuracy: 0.9938\n",
            "Epoch 4/10\n",
            "998/998 [==============================] - 103s 103ms/step - loss: 0.0603 - accuracy: 0.9937 - val_loss: 0.0739 - val_accuracy: 0.9930\n",
            "Epoch 5/10\n",
            "998/998 [==============================] - 103s 103ms/step - loss: 0.0579 - accuracy: 0.9939 - val_loss: 0.0718 - val_accuracy: 0.9913\n",
            "Epoch 6/10\n",
            "998/998 [==============================] - 102s 102ms/step - loss: 0.0559 - accuracy: 0.9936 - val_loss: 0.0725 - val_accuracy: 0.9941\n",
            "Epoch 7/10\n",
            "998/998 [==============================] - 103s 103ms/step - loss: 0.0543 - accuracy: 0.9939 - val_loss: 0.0919 - val_accuracy: 0.9936\n",
            "Epoch 8/10\n",
            "998/998 [==============================] - 103s 103ms/step - loss: 0.0530 - accuracy: 0.9937 - val_loss: 0.0722 - val_accuracy: 0.9927\n",
            "Epoch 9/10\n",
            "998/998 [==============================] - 102s 103ms/step - loss: 0.0518 - accuracy: 0.9936 - val_loss: 0.0782 - val_accuracy: 0.9941\n",
            "Epoch 10/10\n",
            "998/998 [==============================] - 102s 103ms/step - loss: 0.0511 - accuracy: 0.9938 - val_loss: 0.1028 - val_accuracy: 0.9934\n"
          ],
          "name": "stdout"
        }
      ]
    },
    {
      "cell_type": "code",
      "metadata": {
        "colab": {
          "base_uri": "https://localhost:8080/",
          "height": 265
        },
        "id": "c8FKogOs_yaw",
        "outputId": "881a8893-28b8-4d61-fb9d-c1d76eff389b"
      },
      "source": [
        "# plot some data\n",
        "plt.plot(r.history['loss'], label='loss')\n",
        "plt.plot(r.history['val_loss'], label='val_loss')\n",
        "plt.legend()\n",
        "plt.show()"
      ],
      "execution_count": 16,
      "outputs": [
        {
          "output_type": "display_data",
          "data": {
            "image/png": "[encoded data removed]",
            "text/plain": [
              "<Figure size 432x288 with 1 Axes>"
            ]
          },
          "metadata": {
            "tags": [],
            "needs_background": "light"
          }
        }
      ]
    },
    {
      "cell_type": "code",
      "metadata": {
        "colab": {
          "base_uri": "https://localhost:8080/",
          "height": 265
        },
        "id": "T9EvUWGaA2f9",
        "outputId": "16932948-a85f-4f82-d26d-b8f596bfd532"
      },
      "source": [
        "# accuracies\n",
        "plt.plot(r.history['accuracy'], label='acc')\n",
        "plt.plot(r.history['val_accuracy'], label='val_acc')\n",
        "plt.legend()\n",
        "plt.show()"
      ],
      "execution_count": 17,
      "outputs": [
        {
          "output_type": "display_data",
          "data": {
            "image/png": "[encoded data removed]",
            "text/plain": [
              "<Figure size 432x288 with 1 Axes>"
            ]
          },
          "metadata": {
            "tags": [],
            "needs_background": "light"
          }
        }
      ]
    },
    {
      "cell_type": "code",
      "metadata": {
        "colab": {
          "base_uri": "https://localhost:8080/"
        },
        "id": "X_C8vxZ_A2P6",
        "outputId": "ad5fe530-a79c-4bcd-e9f1-666572df89d7"
      },
      "source": [
        "# plot the mean AUC over each label\n",
        "p = model.predict(data)\n",
        "print(p)\n",
        "aucs = []\n",
        "for j in range(6):\n",
        "    auc = roc_auc_score(targets[:,j], p[:,j])\n",
        "    aucs.append(auc)\n",
        "print(np.mean(aucs))"
      ],
      "execution_count": 18,
      "outputs": [
        {
          "output_type": "stream",
          "text": [
            "[[3.40265036e-03 3.08193332e-11 2.48253345e-04 1.32007905e-10\n",
            "  3.88601075e-05 1.55137784e-07]\n",
            " [3.60727310e-04 3.50339956e-13 1.30930985e-05 4.22358763e-12\n",
            "  5.36959578e-06 8.55418580e-09]\n",
            " [4.77442145e-03 1.59391833e-09 2.81542540e-04 3.81643659e-08\n",
            "  1.96188688e-04 1.47800824e-06]\n",
            " ...\n",
            " [3.79901597e-18 0.00000000e+00 3.38084922e-33 0.00000000e+00\n",
            "  7.67694330e-34 0.00000000e+00]\n",
            " [1.97216868e-03 6.05312134e-10 1.55627728e-04 6.17348883e-09\n",
            "  8.74849575e-05 5.97225721e-07]\n",
            " [8.48607421e-02 1.03776038e-05 1.02272332e-02 6.55544573e-05\n",
            "  8.51169229e-03 2.11507082e-04]]\n",
            "0.9741178504070708\n"
          ],
          "name": "stdout"
        }
      ]
    },
    {
      "cell_type": "code",
      "metadata": {
        "id": "Gj2mQimWA2E5"
      },
      "source": [
        "import pickle\n",
        "\n",
        "modelStoragePath = \"/content/drive/MyDrive/toxic_comments_udemy\"\n",
        "\n",
        "def saveData(model, r , iteration):\n",
        "    modelFile = modelStoragePath + \"model_toxic_comments_model\" + str(iteration).strip() + \".h5\"\n",
        "    r File = modelStoragePath + \"_History_toxic_comments_model\" + str(iteration).strip() + \".pkle\"\n",
        "    model.save(modelFile)\n",
        "    #saving r  file too\n",
        "    with open(historyFile, 'wb') as file_pi:\n",
        "        pickle.dump(history.history, file_pi)\n",
        "    return modelFile, r File\n",
        "\n",
        "import tensorflow.keras.models\n",
        "def loadData(iteration):\n",
        "    modelFile = modelStoragePath + \"model_toxic_comments_model\" + str(iteration).strip() + \".h5\"\n",
        "    r File = modelStoragePath + \"_History_toxic_comments_model\" + str(iteration).strip() + \".pkle\"\n",
        "    model = models.load_model(modelFile)\n",
        "    with open(historyFile, 'rb') as file_pi:\n",
        "        r  = pickle.load(file_pi)\n",
        "    return model,  r"
      ],
      "execution_count": 25,
      "outputs": []
    },
    {
      "cell_type": "code",
      "metadata": {
        "id": "mTXj1h84A11R",
        "colab": {
          "base_uri": "https://localhost:8080/"
        },
        "outputId": "e6c033e7-4319-446d-9d93-a53294e8575c"
      },
      "source": [
        "print(type(r))\n",
        "modelFile, rFile = saveData(model, r, iteration=1)\n",
        "print(modelFile, rFile, \"Saved\")"
      ],
      "execution_count": 27,
      "outputs": [
        {
          "output_type": "stream",
          "text": [
            "<class 'tensorflow.python.keras.callbacks.History'>\n",
            "/content/drive/MyDrive/toxic_comments_udemymodel_toxic_comments_model1.h5 /content/drive/MyDrive/toxic_comments_udemy_History_toxic_comments_model1.pkle Saved\n"
          ],
          "name": "stdout"
        }
      ]
    },
    {
      "cell_type": "code",
      "metadata": {
        "id": "_y3ECebd6QRd"
      },
      "source": [
        ""
      ],
      "execution_count": null,
      "outputs": []
    }
  ]
}