{
  "nbformat": 4,
  "nbformat_minor": 0,
  "metadata": {
    "colab": {
      "name": "attention_LSTM.ipynb",
      "provenance": [],
      "collapsed_sections": [],
      "authorship_tag": "ABX9TyMv2rJNs/3QHEASxO/FXeTL",
      "include_colab_link": true
    },
    "kernelspec": {
      "display_name": "Python 3",
      "name": "python3"
    }
  },
  "cells": [
    {
      "cell_type": "markdown",
      "metadata": {
        "id": "view-in-github",
        "colab_type": "text"
      },
      "source": [
        "<a href=\"https://colab.research.google.com/github/umairiqbal78/Deep-learning-Projects/blob/main/attention_LSTM.ipynb\" target=\"_parent\"><img src=\"https://colab.research.google.com/assets/colab-badge.svg\" alt=\"Open In Colab\"/></a>"
      ]
    },
    {
      "cell_type": "code",
      "metadata": {
        "colab": {
          "base_uri": "https://localhost:8080/"
        },
        "id": "8GJXvsux7S0o",
        "outputId": "7271213a-f938-435f-d553-2bcd6420d8e5"
      },
      "source": [
        "from google.colab import drive\r\n",
        "drive.mount('/content/drive')"
      ],
      "execution_count": null,
      "outputs": [
        {
          "output_type": "stream",
          "text": [
            "Mounted at /content/drive\n"
          ],
          "name": "stdout"
        }
      ]
    },
    {
      "cell_type": "code",
      "metadata": {
        "id": "g5zrBSL77wYN"
      },
      "source": [
        "# https://deeplearningcourses.com/c/deep-learning-advanced-nlp\r\n",
        "from __future__ import print_function, division\r\n",
        "from builtins import range, input\r\n",
        "# Note: you may need to update your version of future\r\n",
        "# sudo pip install -U future"
      ],
      "execution_count": null,
      "outputs": []
    },
    {
      "cell_type": "code",
      "metadata": {
        "id": "YtspZbYj8FWe"
      },
      "source": [
        "import os, sys\r\n",
        "\r\n",
        "from keras.models import Model\r\n",
        "from keras.layers import Input, LSTM, GRU, Dense, Embedding, \\\r\n",
        "  Bidirectional, RepeatVector, Concatenate, Activation, Dot, Lambda\r\n",
        "from keras.preprocessing.text import Tokenizer\r\n",
        "from keras.preprocessing.sequence import pad_sequences\r\n",
        "import keras.backend as K\r\n",
        "\r\n",
        "import numpy as np\r\n",
        "import matplotlib.pyplot as plt"
      ],
      "execution_count": null,
      "outputs": []
    },
    {
      "cell_type": "code",
      "metadata": {
        "id": "-WKlfjHd8IsE"
      },
      "source": [
        "try:\r\n",
        "  import keras.backend as K\r\n",
        "  if len(K.tensorflow_backend._get_available_gpus()) > 0:\r\n",
        "    from keras.layers import CuDNNLSTM as LSTM\r\n",
        "    from keras.layers import CuDNNGRU as GRU\r\n",
        "except:\r\n",
        "  pass"
      ],
      "execution_count": null,
      "outputs": []
    },
    {
      "cell_type": "code",
      "metadata": {
        "id": "gT79IDto8XeT"
      },
      "source": [
        "# make sure we do softmax over the time axis\r\n",
        "# expected shape is N x T x D\r\n",
        "# note: the latest version of Keras allows you to pass in axis arg\r\n",
        "def softmax_over_time(x):\r\n",
        "  assert(K.ndim(x) > 2)\r\n",
        "  e = K.exp(x - K.max(x, axis=1, keepdims=True))\r\n",
        "  s = K.sum(e, axis=1, keepdims=True)\r\n",
        "  return e / s\r\n"
      ],
      "execution_count": null,
      "outputs": []
    },
    {
      "cell_type": "code",
      "metadata": {
        "id": "n172tqbNOfEN"
      },
      "source": [
        "# config\r\n",
        "BATCH_SIZE = 64\r\n",
        "EPOCHS = 30\r\n",
        "LATENT_DIM = 400\r\n",
        "LATENT_DIM_DECODER = 400 # idea: make it different to ensure things all fit together properly!\r\n",
        "NUM_SAMPLES = 20000\r\n",
        "MAX_SEQUENCE_LENGTH = 100\r\n",
        "MAX_NUM_WORDS = 20000\r\n",
        "EMBEDDING_DIM = 100\r\n"
      ],
      "execution_count": null,
      "outputs": []
    },
    {
      "cell_type": "code",
      "metadata": {
        "id": "zVm2ONG0OgYH"
      },
      "source": [
        "# Where we will store the data\r\n",
        "input_texts = [] # sentence in original language\r\n",
        "target_texts = [] # sentence in target language\r\n",
        "target_texts_inputs = [] # sentence in target language offset by 1\r\n",
        "\r\n"
      ],
      "execution_count": null,
      "outputs": []
    },
    {
      "cell_type": "code",
      "metadata": {
        "id": "awkH35IxOnCL",
        "colab": {
          "base_uri": "https://localhost:8080/"
        },
        "outputId": "a8e510b4-32fb-4845-b9e3-31704850cb8a"
      },
      "source": [
        "# load in the data\r\n",
        "# download the data at: http://www.manythings.org/anki/\r\n",
        "t = 0\r\n",
        "for line in open('/content/drive/MyDrive/language_translation/eng_to_urdu/urd.txt'):\r\n",
        "  # only keep a limited number of samples\r\n",
        "  t += 1\r\n",
        "  if t > NUM_SAMPLES:\r\n",
        "    break\r\n",
        "\r\n",
        "  # input and target are separated by tab\r\n",
        "  if '\\t' not in line:\r\n",
        "    continue\r\n",
        "\r\n",
        "  # split up the input and translation\r\n",
        "  input_text, translation, *rest = line.rstrip().split('\\t')\r\n",
        "\r\n",
        "  # make the target input and output\r\n",
        "  # recall we'll be using teacher forcing\r\n",
        "  target_text = translation + ' <eos>'\r\n",
        "  target_text_input = '<sos> ' + translation\r\n",
        "\r\n",
        "  input_texts.append(input_text)\r\n",
        "  target_texts.append(target_text)\r\n",
        "  target_texts_inputs.append(target_text_input)\r\n",
        "print(\"num samples:\", len(input_texts))\r\n"
      ],
      "execution_count": null,
      "outputs": [
        {
          "output_type": "stream",
          "text": [
            "num samples: 1167\n"
          ],
          "name": "stdout"
        }
      ]
    },
    {
      "cell_type": "code",
      "metadata": {
        "id": "ldOJQAMIOoMN",
        "colab": {
          "base_uri": "https://localhost:8080/"
        },
        "outputId": "ae710e5e-edd8-469f-e3d0-35e3fa102baa"
      },
      "source": [
        "\r\n",
        "# tokenize the inputs\r\n",
        "tokenizer_inputs = Tokenizer(num_words=MAX_NUM_WORDS)\r\n",
        "tokenizer_inputs.fit_on_texts(input_texts)\r\n",
        "input_sequences = tokenizer_inputs.texts_to_sequences(input_texts)\r\n",
        "\r\n",
        "# get the word to index mapping for input language\r\n",
        "word2idx_inputs = tokenizer_inputs.word_index\r\n",
        "print('Found %s unique input tokens.' % len(word2idx_inputs))\r\n",
        "\r\n",
        "# determine maximum length input sequence\r\n",
        "max_len_input = max(len(s) for s in input_sequences)"
      ],
      "execution_count": null,
      "outputs": [
        {
          "output_type": "stream",
          "text": [
            "Found 1343 unique input tokens.\n"
          ],
          "name": "stdout"
        }
      ]
    },
    {
      "cell_type": "code",
      "metadata": {
        "id": "AKnmyZKvOsxm"
      },
      "source": [
        "# tokenize the outputs\r\n",
        "# don't filter out special characters\r\n",
        "# otherwise <sos> and <eos> won't appear\r\n",
        "tokenizer_outputs = Tokenizer(num_words=MAX_NUM_WORDS, filters='')\r\n",
        "tokenizer_outputs.fit_on_texts(target_texts + target_texts_inputs) # inefficient, oh well\r\n",
        "target_sequences = tokenizer_outputs.texts_to_sequences(target_texts)\r\n",
        "target_sequences_inputs = tokenizer_outputs.texts_to_sequences(target_texts_inputs)"
      ],
      "execution_count": null,
      "outputs": []
    },
    {
      "cell_type": "code",
      "metadata": {
        "id": "t-QPlY-lOwkr",
        "colab": {
          "base_uri": "https://localhost:8080/"
        },
        "outputId": "133bb29d-afb3-49c6-8d5d-203fb7ccf341"
      },
      "source": [
        "# get the word to index mapping for output language\r\n",
        "word2idx_outputs = tokenizer_outputs.word_index\r\n",
        "print('Found %s unique output tokens.' % len(word2idx_outputs))\r\n",
        "\r\n",
        "# store number of output words for later\r\n",
        "# remember to add 1 since indexing starts at 1\r\n",
        "num_words_output = len(word2idx_outputs) + 1\r\n",
        "\r\n",
        "# determine maximum length output sequence\r\n",
        "max_len_target = max(len(s) for s in target_sequences)\r\n"
      ],
      "execution_count": null,
      "outputs": [
        {
          "output_type": "stream",
          "text": [
            "Found 1728 unique output tokens.\n"
          ],
          "name": "stdout"
        }
      ]
    },
    {
      "cell_type": "code",
      "metadata": {
        "id": "vypUJkycO5lS",
        "colab": {
          "base_uri": "https://localhost:8080/"
        },
        "outputId": "002fc13b-0ed4-4e7b-e1f7-c99328a98e44"
      },
      "source": [
        "# pad the sequences\r\n",
        "encoder_inputs = pad_sequences(input_sequences, maxlen=max_len_input)\r\n",
        "print(\"encoder_data.shape:\", encoder_inputs.shape)\r\n",
        "print(\"encoder_data[0]:\", encoder_inputs[0])\r\n",
        "\r\n",
        "decoder_inputs = pad_sequences(target_sequences_inputs, maxlen=max_len_target, padding='post')\r\n",
        "print(\"decoder_data[0]:\", decoder_inputs[0])\r\n",
        "print(\"decoder_data.shape:\", decoder_inputs.shape)\r\n",
        "\r\n",
        "decoder_targets = pad_sequences(target_sequences, maxlen=max_len_target, padding='post')\r\n",
        "\r\n"
      ],
      "execution_count": null,
      "outputs": [
        {
          "output_type": "stream",
          "text": [
            "encoder_data.shape: (1167, 18)\n",
            "encoder_data[0]: [  0   0   0   0   0   0   0   0   0   0   0   0   0   0   0   0   0 463]\n",
            "decoder_data[0]: [  2 538   0   0   0   0   0   0   0   0   0   0   0   0   0   0   0   0\n",
            "   0   0   0   0]\n",
            "decoder_data.shape: (1167, 22)\n"
          ],
          "name": "stdout"
        }
      ]
    },
    {
      "cell_type": "code",
      "metadata": {
        "id": "cFV5Pm3rO8P8",
        "colab": {
          "base_uri": "https://localhost:8080/"
        },
        "outputId": "62b0d842-eb53-4a6e-8ed8-c909f8112d6b"
      },
      "source": [
        "\r\n",
        "# store all the pre-trained word vectors\r\n",
        "print('Loading word vectors...')\r\n",
        "word2vec = {}\r\n",
        "with open(os.path.join('/content/drive/MyDrive/Glove_embedding/glove.6B.%sd.txt' % EMBEDDING_DIM)) as f:\r\n",
        "  # is just a space-separated text file in the format:\r\n",
        "  # word vec[0] vec[1] vec[2] ...\r\n",
        "  for line in f:\r\n",
        "    values = line.split()\r\n",
        "    word = values[0]\r\n",
        "    vec = np.asarray(values[1:], dtype='float32')\r\n",
        "    word2vec[word] = vec\r\n",
        "print('Found %s word vectors.' % len(word2vec))\r\n",
        "\r\n"
      ],
      "execution_count": null,
      "outputs": [
        {
          "output_type": "stream",
          "text": [
            "Loading word vectors...\n",
            "Found 400000 word vectors.\n"
          ],
          "name": "stdout"
        }
      ]
    },
    {
      "cell_type": "code",
      "metadata": {
        "id": "qOkwVSINk5hd",
        "colab": {
          "base_uri": "https://localhost:8080/"
        },
        "outputId": "e03c1b6f-f1c9-45a1-8fce-af55f08cc0a1"
      },
      "source": [
        "# prepare embedding matrix\r\n",
        "print('Filling pre-trained embeddings...')\r\n",
        "num_words = min(MAX_NUM_WORDS, len(word2idx_inputs) + 1)\r\n",
        "embedding_matrix = np.zeros((num_words, EMBEDDING_DIM))\r\n",
        "for word, i in word2idx_inputs.items():\r\n",
        "  if i < MAX_NUM_WORDS:\r\n",
        "    embedding_vector = word2vec.get(word)\r\n",
        "    if embedding_vector is not None:\r\n",
        "      # words not found in embedding index will be all zeros.\r\n",
        "      embedding_matrix[i] = embedding_vector"
      ],
      "execution_count": null,
      "outputs": [
        {
          "output_type": "stream",
          "text": [
            "Filling pre-trained embeddings...\n"
          ],
          "name": "stdout"
        }
      ]
    },
    {
      "cell_type": "code",
      "metadata": {
        "id": "QO-6dmkTk7rX"
      },
      "source": [
        "\r\n",
        "# create embedding layer\r\n",
        "embedding_layer = Embedding(\r\n",
        "  num_words,\r\n",
        "  EMBEDDING_DIM,\r\n",
        "  weights=[embedding_matrix],\r\n",
        "  input_length=max_len_input,\r\n",
        "  # trainable=True\r\n",
        ")\r\n"
      ],
      "execution_count": null,
      "outputs": []
    },
    {
      "cell_type": "code",
      "metadata": {
        "id": "6gtqXCFik7jg"
      },
      "source": [
        "\r\n",
        "# create targets, since we cannot use sparse\r\n",
        "# categorical cross entropy when we have sequences\r\n",
        "decoder_targets_one_hot = np.zeros(\r\n",
        "  (\r\n",
        "    len(input_texts),\r\n",
        "    max_len_target,\r\n",
        "    num_words_output\r\n",
        "  ),\r\n",
        "  dtype='float32'\r\n",
        ")\r\n",
        "\r\n",
        "# assign the values\r\n",
        "for i, d in enumerate(decoder_targets):\r\n",
        "  for t, word in enumerate(d):\r\n",
        "    if word > 0:\r\n",
        "      decoder_targets_one_hot[i, t, word] = 1"
      ],
      "execution_count": null,
      "outputs": []
    },
    {
      "cell_type": "code",
      "metadata": {
        "id": "oEBWFrX8k7bR"
      },
      "source": [
        "##### build the model #####\r\n",
        "\r\n",
        "# Set up the encoder - simple!\r\n",
        "encoder_inputs_placeholder = Input(shape=(max_len_input,))\r\n",
        "x = embedding_layer(encoder_inputs_placeholder)\r\n",
        "encoder = Bidirectional(LSTM(\r\n",
        "  LATENT_DIM,\r\n",
        "  return_sequences=True,\r\n",
        "  # dropout=0.5 # dropout not available on gpu\r\n",
        "))\r\n",
        "encoder_outputs = encoder(x)\r\n",
        "\r\n",
        "\r\n",
        "# Set up the decoder - not so simple\r\n",
        "decoder_inputs_placeholder = Input(shape=(max_len_target,))\r\n",
        "\r\n",
        "# this word embedding will not use pre-trained vectors\r\n",
        "# although you could\r\n",
        "decoder_embedding = Embedding(num_words_output, EMBEDDING_DIM)\r\n",
        "decoder_inputs_x = decoder_embedding(decoder_inputs_placeholder)"
      ],
      "execution_count": null,
      "outputs": []
    },
    {
      "cell_type": "code",
      "metadata": {
        "id": "gYjLLFI2k7TX"
      },
      "source": [
        "######### Attention #########\r\n",
        "# Attention layers need to be global because\r\n",
        "# they will be repeated Ty times at the decoder\r\n",
        "attn_repeat_layer = RepeatVector(max_len_input)\r\n",
        "attn_concat_layer = Concatenate(axis=-1)\r\n",
        "attn_dense1 = Dense(10, activation='tanh')\r\n",
        "attn_dense2 = Dense(1, activation=softmax_over_time)\r\n",
        "attn_dot = Dot(axes=1) # to perform the weighted sum of alpha[t] * h[t]\r\n",
        "\r\n",
        "def one_step_attention(h, st_1):\r\n",
        "  # h = h(1), ..., h(Tx), shape = (Tx, LATENT_DIM * 2)\r\n",
        "  # st_1 = s(t-1), shape = (LATENT_DIM_DECODER,)\r\n",
        " \r\n",
        "  # copy s(t-1) Tx times\r\n",
        "  # now shape = (Tx, LATENT_DIM_DECODER)\r\n",
        "  st_1 = attn_repeat_layer(st_1)\r\n",
        "\r\n",
        "  # Concatenate all h(t)'s with s(t-1)\r\n",
        "  # Now of shape (Tx, LATENT_DIM_DECODER + LATENT_DIM * 2)\r\n",
        "  x = attn_concat_layer([h, st_1])\r\n",
        "\r\n",
        "  # Neural net first layer\r\n",
        "  x = attn_dense1(x)\r\n",
        "\r\n",
        "  # Neural net second layer with special softmax over time\r\n",
        "  alphas = attn_dense2(x)\r\n",
        "\r\n",
        "  # \"Dot\" the alphas and the h's\r\n",
        "  # Remember a.dot(b) = sum over a[t] * b[t]\r\n",
        "  context = attn_dot([alphas, h])\r\n",
        "\r\n",
        "  return context"
      ],
      "execution_count": null,
      "outputs": []
    },
    {
      "cell_type": "code",
      "metadata": {
        "id": "0Qtcwac-k7L2"
      },
      "source": [
        "# define the rest of the decoder (after attention)\r\n",
        "decoder_lstm = LSTM(LATENT_DIM_DECODER, return_state=True)\r\n",
        "decoder_dense = Dense(num_words_output, activation='softmax')\r\n",
        "\r\n",
        "initial_s = Input(shape=(LATENT_DIM_DECODER,), name='s0')\r\n",
        "initial_c = Input(shape=(LATENT_DIM_DECODER,), name='c0')\r\n",
        "context_last_word_concat_layer = Concatenate(axis=2)\r\n"
      ],
      "execution_count": null,
      "outputs": []
    },
    {
      "cell_type": "code",
      "metadata": {
        "id": "iriG-9btk6_K"
      },
      "source": [
        "# Unlike previous seq2seq, we cannot get the output\r\n",
        "# all in one step\r\n",
        "# Instead we need to do Ty steps\r\n",
        "# And in each of those steps, we need to consider\r\n",
        "# all Tx h's\r\n",
        "\r\n",
        "# s, c will be re-assigned in each iteration of the loop\r\n",
        "s = initial_s\r\n",
        "c = initial_c\r\n",
        "\r\n",
        "# collect outputs in a list at first\r\n",
        "outputs = []\r\n",
        "for t in range(max_len_target): # Ty times\r\n",
        "  # get the context using attention\r\n",
        "  context = one_step_attention(encoder_outputs, s) #s = decoder previous state\r\n",
        "\r\n",
        "  # we need a different layer for each time step\r\n",
        "  selector = Lambda(lambda x: x[:, t:t+1]) #[no of samples, timestep]\r\n",
        "  xt = selector(decoder_inputs_x)\r\n",
        "  \r\n",
        "  # combine \r\n",
        "  decoder_lstm_input = context_last_word_concat_layer([context, xt])\r\n",
        "\r\n",
        "  # pass the combined [context, last word] into the LSTM\r\n",
        "  # along with [s, c]\r\n",
        "  # get the new [s, c] and output\r\n",
        "  o, s, c = decoder_lstm(decoder_lstm_input, initial_state=[s, c])\r\n",
        "\r\n",
        "  # final dense layer to get next word prediction\r\n",
        "  decoder_outputs = decoder_dense(o)\r\n",
        "  outputs.append(decoder_outputs)"
      ],
      "execution_count": null,
      "outputs": []
    },
    {
      "cell_type": "code",
      "metadata": {
        "id": "kDJFxqwrlZ_4"
      },
      "source": [
        "# 'outputs' is now a list of length Ty\r\n",
        "# each element is of shape (batch size, output vocab size)\r\n",
        "# therefore if we simply stack all the outputs into 1 tensor\r\n",
        "# it would be of shape T x N x D\r\n",
        "# we would like it to be of shape N x T x D\r\n",
        "\r\n",
        "def stack_and_transpose(x):\r\n",
        "  # x is a list of length T, each element is a batch_size x output_vocab_size tensor\r\n",
        "  x = K.stack(x) # is now T x batch_size x output_vocab_size tensor\r\n",
        "  x = K.permute_dimensions(x, pattern=(1, 0, 2)) # is now batch_size x T x output_vocab_size\r\n",
        "  return x\r\n",
        "\r\n",
        "# make it a layer\r\n",
        "stacker = Lambda(stack_and_transpose)\r\n",
        "outputs = stacker(outputs)"
      ],
      "execution_count": null,
      "outputs": []
    },
    {
      "cell_type": "code",
      "metadata": {
        "id": "VlT2AANTlZ8X"
      },
      "source": [
        "# create the model\r\n",
        "model = Model(\r\n",
        "  inputs=[\r\n",
        "    encoder_inputs_placeholder,\r\n",
        "    decoder_inputs_placeholder,\r\n",
        "    initial_s, \r\n",
        "    initial_c,\r\n",
        "  ],\r\n",
        "  outputs=outputs\r\n",
        ")\r\n"
      ],
      "execution_count": null,
      "outputs": []
    },
    {
      "cell_type": "code",
      "metadata": {
        "id": "-Ky1t85AlZ5B"
      },
      "source": [
        "def custom_loss(y_true, y_pred):\r\n",
        "  # both are of shape N x T x K\r\n",
        "  mask = K.cast(y_true > 0, dtype='float32')\r\n",
        "  out = mask * y_true * K.log(y_pred)\r\n",
        "  return -K.sum(out) / K.sum(mask)\r\n",
        "\r\n",
        "\r\n",
        "def acc(y_true, y_pred):\r\n",
        "  # both are of shape N x T x K\r\n",
        "  targ = K.argmax(y_true, axis=-1)\r\n",
        "  pred = K.argmax(y_pred, axis=-1)\r\n",
        "  correct = K.cast(K.equal(targ, pred), dtype='float32')\r\n",
        "\r\n",
        "  # 0 is padding, don't include those\r\n",
        "  mask = K.cast(K.greater(targ, 0), dtype='float32')\r\n",
        "  n_correct = K.sum(mask * correct)\r\n",
        "  n_total = K.sum(mask)\r\n",
        "  return n_correct / n_total"
      ],
      "execution_count": null,
      "outputs": []
    },
    {
      "cell_type": "code",
      "metadata": {
        "id": "I11HxWKnlmi5"
      },
      "source": [
        "# compile the model\r\n",
        "model.compile(optimizer='adam', loss=custom_loss, metrics=[acc])\r\n",
        "# model.compile(optimizer='rmsprop', loss='categorical_crossentropy', metrics=['acc'])"
      ],
      "execution_count": null,
      "outputs": []
    },
    {
      "cell_type": "code",
      "metadata": {
        "id": "pqYHgQWxlmbV",
        "colab": {
          "base_uri": "https://localhost:8080/"
        },
        "outputId": "9becab89-1af9-4dec-fb7f-37b3543474bb"
      },
      "source": [
        "# train the model\r\n",
        "z = np.zeros((len(encoder_inputs), LATENT_DIM_DECODER)) # initial [s, c]\r\n",
        "r = model.fit(\r\n",
        "  [encoder_inputs, decoder_inputs, z, z], decoder_targets_one_hot,\r\n",
        "  batch_size=BATCH_SIZE,\r\n",
        "  epochs=EPOCHS,\r\n",
        "  validation_split=0.2\r\n",
        ")"
      ],
      "execution_count": null,
      "outputs": [
        {
          "output_type": "stream",
          "text": [
            "Epoch 1/30\n",
            "15/15 [==============================] - 74s 2s/step - loss: 6.8661 - acc: 0.1045 - val_loss: 6.3931 - val_acc: 0.0940\n",
            "Epoch 2/30\n",
            "15/15 [==============================] - 22s 1s/step - loss: 5.5781 - acc: 0.1571 - val_loss: 6.3705 - val_acc: 0.1033\n",
            "Epoch 3/30\n",
            "15/15 [==============================] - 22s 2s/step - loss: 5.3658 - acc: 0.1626 - val_loss: 6.3980 - val_acc: 0.1037\n",
            "Epoch 4/30\n",
            "15/15 [==============================] - 22s 1s/step - loss: 5.1963 - acc: 0.1652 - val_loss: 6.3749 - val_acc: 0.1106\n",
            "Epoch 5/30\n",
            "15/15 [==============================] - 22s 1s/step - loss: 5.1096 - acc: 0.1733 - val_loss: 6.3954 - val_acc: 0.1105\n",
            "Epoch 6/30\n",
            "15/15 [==============================] - 22s 1s/step - loss: 5.0116 - acc: 0.1784 - val_loss: 6.4314 - val_acc: 0.1158\n",
            "Epoch 7/30\n",
            "15/15 [==============================] - 22s 1s/step - loss: 4.9625 - acc: 0.1766 - val_loss: 6.4609 - val_acc: 0.1167\n",
            "Epoch 8/30\n",
            "15/15 [==============================] - 22s 2s/step - loss: 4.8984 - acc: 0.1799 - val_loss: 6.4683 - val_acc: 0.1140\n",
            "Epoch 9/30\n",
            "15/15 [==============================] - 22s 1s/step - loss: 4.8580 - acc: 0.1854 - val_loss: 6.5522 - val_acc: 0.1089\n",
            "Epoch 10/30\n",
            "15/15 [==============================] - 22s 1s/step - loss: 4.8029 - acc: 0.1810 - val_loss: 6.5872 - val_acc: 0.1168\n",
            "Epoch 11/30\n",
            "15/15 [==============================] - 23s 2s/step - loss: 4.7693 - acc: 0.1855 - val_loss: 6.6228 - val_acc: 0.1126\n",
            "Epoch 12/30\n",
            "15/15 [==============================] - 22s 1s/step - loss: 4.6839 - acc: 0.1861 - val_loss: 6.6517 - val_acc: 0.1056\n",
            "Epoch 13/30\n",
            "15/15 [==============================] - 22s 2s/step - loss: 4.6161 - acc: 0.1938 - val_loss: 6.7084 - val_acc: 0.1131\n",
            "Epoch 14/30\n",
            "15/15 [==============================] - 23s 2s/step - loss: 4.5437 - acc: 0.1948 - val_loss: 6.6643 - val_acc: 0.1129\n",
            "Epoch 15/30\n",
            "15/15 [==============================] - 22s 1s/step - loss: 4.4481 - acc: 0.2036 - val_loss: 6.7288 - val_acc: 0.1134\n",
            "Epoch 16/30\n",
            "15/15 [==============================] - 22s 1s/step - loss: 4.4096 - acc: 0.2059 - val_loss: 6.7147 - val_acc: 0.1123\n",
            "Epoch 17/30\n",
            "15/15 [==============================] - 22s 1s/step - loss: 4.2953 - acc: 0.2182 - val_loss: 6.6865 - val_acc: 0.1158\n",
            "Epoch 18/30\n",
            "15/15 [==============================] - 22s 1s/step - loss: 4.1872 - acc: 0.2258 - val_loss: 6.7071 - val_acc: 0.1115\n",
            "Epoch 19/30\n",
            "15/15 [==============================] - 22s 2s/step - loss: 4.0903 - acc: 0.2322 - val_loss: 6.7321 - val_acc: 0.1055\n",
            "Epoch 20/30\n",
            "15/15 [==============================] - 22s 1s/step - loss: 3.9917 - acc: 0.2375 - val_loss: 6.7650 - val_acc: 0.1086\n",
            "Epoch 21/30\n",
            "15/15 [==============================] - 22s 2s/step - loss: 3.8502 - acc: 0.2554 - val_loss: 6.8276 - val_acc: 0.1056\n",
            "Epoch 22/30\n",
            "15/15 [==============================] - 22s 1s/step - loss: 3.7910 - acc: 0.2485 - val_loss: 6.8773 - val_acc: 0.1093\n",
            "Epoch 23/30\n",
            "15/15 [==============================] - 22s 1s/step - loss: 3.6128 - acc: 0.2725 - val_loss: 6.9146 - val_acc: 0.1135\n",
            "Epoch 24/30\n",
            "15/15 [==============================] - 22s 2s/step - loss: 3.5246 - acc: 0.2796 - val_loss: 6.9946 - val_acc: 0.1075\n",
            "Epoch 25/30\n",
            "15/15 [==============================] - 23s 2s/step - loss: 3.4503 - acc: 0.2851 - val_loss: 6.9407 - val_acc: 0.1109\n",
            "Epoch 26/30\n",
            "15/15 [==============================] - 22s 1s/step - loss: 3.3417 - acc: 0.2943 - val_loss: 7.0789 - val_acc: 0.1145\n",
            "Epoch 27/30\n",
            "15/15 [==============================] - 22s 1s/step - loss: 3.2345 - acc: 0.3059 - val_loss: 7.0888 - val_acc: 0.1169\n",
            "Epoch 28/30\n",
            "15/15 [==============================] - 23s 2s/step - loss: 3.1220 - acc: 0.3173 - val_loss: 7.1934 - val_acc: 0.1166\n",
            "Epoch 29/30\n",
            "15/15 [==============================] - 22s 1s/step - loss: 2.9996 - acc: 0.3320 - val_loss: 7.1654 - val_acc: 0.1139\n",
            "Epoch 30/30\n",
            "15/15 [==============================] - 22s 1s/step - loss: 2.8893 - acc: 0.3590 - val_loss: 7.2130 - val_acc: 0.1079\n"
          ],
          "name": "stdout"
        }
      ]
    },
    {
      "cell_type": "code",
      "metadata": {
        "id": "H2cmzES4lmX4",
        "colab": {
          "base_uri": "https://localhost:8080/",
          "height": 513
        },
        "outputId": "e5103bb5-ad46-4d24-feb0-ba4f28c37e1b"
      },
      "source": [
        "# plot some data\r\n",
        "plt.plot(r.history['loss'], label='loss')\r\n",
        "plt.plot(r.history['val_loss'], label='val_loss')\r\n",
        "plt.legend()\r\n",
        "plt.show()\r\n",
        "\r\n",
        "# accuracies\r\n",
        "plt.plot(r.history['acc'], label='acc')\r\n",
        "plt.plot(r.history['val_acc'], label='val_acc')\r\n",
        "plt.legend()\r\n",
        "plt.show()"
      ],
      "execution_count": null,
      "outputs": [
        {
          "output_type": "display_data",
          "data": {
            "image/png": "[encoded data removed]",
            "text/plain": [
              "<Figure size 432x288 with 1 Axes>"
            ]
          },
          "metadata": {
            "tags": [],
            "needs_background": "light"
          }
        },
        {
          "output_type": "display_data",
          "data": {
            "image/png": "[encoded data removed]",
            "text/plain": [
              "<Figure size 432x288 with 1 Axes>"
            ]
          },
          "metadata": {
            "tags": [],
            "needs_background": "light"
          }
        }
      ]
    },
    {
      "cell_type": "code",
      "metadata": {
        "id": "O7To5dapmK46"
      },
      "source": [
        "import pickle\n",
        "\n",
        "modelStoragePath = \"/content/drive/MyDrive/language_translation/eng_to_turkish_attention_model\"\n",
        "\n",
        "def saveData(model, r , iteration):\n",
        "    modelFile = modelStoragePath + \"model_LSTM__s2s_eng2tur_attention_model\" + str(iteration).strip() + \".h5\"\n",
        "    rFile = modelStoragePath + \"_History_LSTM__s2s_eng2tur_attention_model\" + str(iteration).strip() + \".pkle\"\n",
        "    model.save(modelFile)\n",
        "    #saving r  file too\n",
        "    with open(rFile, 'wb') as file_pi:\n",
        "        pickle.dump(r.history, file_pi)\n",
        "    return modelFile, rFile\n",
        "\n",
        "import tensorflow.keras.models\n",
        "def loadData(iteration):\n",
        "    modelFile = modelStoragePath + \"model_LSTM__s2s_eng2tur_attention_model\" + str(iteration).strip() + \".h5\"\n",
        "    rFile = modelStoragePath + \"_History_LSTM__s2s_eng2tur_attention_model\" + str(iteration).strip() + \".pkle\"\n",
        "    model = models.load_model(modelFile)\n",
        "    with open(rFile, 'rb') as file_pi:\n",
        "        r  = pickle.load(file_pi)\n",
        "    return model,  r"
      ],
      "execution_count": null,
      "outputs": []
    },
    {
      "cell_type": "code",
      "metadata": {
        "colab": {
          "base_uri": "https://localhost:8080/"
        },
        "id": "YVyR3nJCmdBk",
        "outputId": "264c6abb-aee5-473a-c9d5-68cb77908ce0"
      },
      "source": [
        "print(type(r))\n",
        "modelFile, rFile = saveData(model, r, iteration=1)\n",
        "print(modelFile, rFile, \"Saved\")"
      ],
      "execution_count": null,
      "outputs": [
        {
          "output_type": "stream",
          "text": [
            "<class 'tensorflow.python.keras.callbacks.History'>\n",
            "/content/drive/MyDrive/language_translation/eng_to_turkish_attention_modelmodel_LSTM__s2s_eng2tur_attention_model1.h5 /content/drive/MyDrive/language_translation/eng_to_turkish_attention_model_History_LSTM__s2s_eng2tur_attention_model1.pkle Saved\n"
          ],
          "name": "stdout"
        }
      ]
    },
    {
      "cell_type": "code",
      "metadata": {
        "id": "R100oR9NlzgR"
      },
      "source": [
        "##### Make predictions #####\r\n",
        "# As with the poetry example, we need to create another model\r\n",
        "# that can take in the RNN state and previous word as input\r\n",
        "# and accept a T=1 sequence.\r\n",
        "\r\n",
        "# The encoder will be stand-alone\r\n",
        "# From this we will get our initial decoder hidden state\r\n",
        "# i.e. h(1), ..., h(Tx)\r\n",
        "encoder_model = Model(encoder_inputs_placeholder, encoder_outputs)"
      ],
      "execution_count": null,
      "outputs": []
    },
    {
      "cell_type": "code",
      "metadata": {
        "id": "De0iHM-_lzOK"
      },
      "source": [
        "# next we define a T=1 decoder model\r\n",
        "encoder_outputs_as_input = Input(shape=(max_len_input, LATENT_DIM * 2,))\r\n",
        "decoder_inputs_single = Input(shape=(1,))\r\n",
        "decoder_inputs_single_x = decoder_embedding(decoder_inputs_single)\r\n"
      ],
      "execution_count": null,
      "outputs": []
    },
    {
      "cell_type": "code",
      "metadata": {
        "id": "2VEcXCkqlzLI"
      },
      "source": [
        "# no need to loop over attention steps this time because there is only one step\r\n",
        "context = one_step_attention(encoder_outputs_as_input, initial_s)\r\n",
        "\r\n",
        "# combine context with last word\r\n",
        "decoder_lstm_input = context_last_word_concat_layer([context, decoder_inputs_single_x])\r\n",
        "\r\n",
        "\r\n",
        "# lstm and final dense\r\n",
        "o, s, c = decoder_lstm(decoder_lstm_input, initial_state=[initial_s, initial_c])\r\n",
        "decoder_outputs = decoder_dense(o)\r\n",
        "\r\n"
      ],
      "execution_count": null,
      "outputs": []
    },
    {
      "cell_type": "code",
      "metadata": {
        "id": "0Oqrm3bZmF1P"
      },
      "source": [
        "# note: we don't really need the final stack and tranpose\r\n",
        "# because there's only 1 output\r\n",
        "# it is already of size N x D\r\n",
        "# no need to make it 1 x N x D --> N x 1 x D\r\n",
        "\r\n",
        "\r\n",
        "# create the model object\r\n",
        "decoder_model = Model(\r\n",
        "  inputs=[\r\n",
        "    decoder_inputs_single,\r\n",
        "    encoder_outputs_as_input,\r\n",
        "    initial_s, \r\n",
        "    initial_c\r\n",
        "  ],\r\n",
        "  outputs=[decoder_outputs, s, c]\r\n",
        ")\r\n"
      ],
      "execution_count": null,
      "outputs": []
    },
    {
      "cell_type": "code",
      "metadata": {
        "id": "qm0XL9qlmFuK"
      },
      "source": [
        "# map indexes back into real words\r\n",
        "# so we can view the results\r\n",
        "idx2word_eng = {v:k for k, v in word2idx_inputs.items()}\r\n",
        "idx2word_trans = {v:k for k, v in word2idx_outputs.items()}\r\n"
      ],
      "execution_count": null,
      "outputs": []
    },
    {
      "cell_type": "code",
      "metadata": {
        "id": "qaWuQ4D0mFrS"
      },
      "source": [
        "def decode_sequence(input_seq):\r\n",
        "  # Encode the input as state vectors.\r\n",
        "  enc_out = encoder_model.predict(input_seq)\r\n",
        "\r\n",
        "  # Generate empty target sequence of length 1.\r\n",
        "  target_seq = np.zeros((1, 1))\r\n",
        "  \r\n",
        "  # Populate the first character of target sequence with the start character.\r\n",
        "  # NOTE: tokenizer lower-cases all words\r\n",
        "  target_seq[0, 0] = word2idx_outputs['<sos>']\r\n",
        "\r\n",
        "  # if we get this we break\r\n",
        "  eos = word2idx_outputs['<eos>']\r\n",
        "\r\n",
        "\r\n",
        "  # [s, c] will be updated in each loop iteration\r\n",
        "  s = np.zeros((1, LATENT_DIM_DECODER))\r\n",
        "  c = np.zeros((1, LATENT_DIM_DECODER))\r\n",
        "\r\n",
        "\r\n",
        "  # Create the translation\r\n",
        "  output_sentence = []\r\n",
        "  for _ in range(max_len_target):\r\n",
        "    o, s, c = decoder_model.predict([target_seq, enc_out, s, c])\r\n",
        "        \r\n",
        "\r\n",
        "    # Get next word\r\n",
        "    idx = np.argmax(o.flatten())\r\n",
        "\r\n",
        "    # End sentence of EOS\r\n",
        "    if eos == idx:\r\n",
        "      break\r\n",
        "\r\n",
        "    word = ''\r\n",
        "    if idx > 0:\r\n",
        "      word = idx2word_trans[idx]\r\n",
        "      output_sentence.append(word)\r\n",
        "\r\n",
        "    # Update the decoder input\r\n",
        "    # which is just the word just generated\r\n",
        "    target_seq[0, 0] = idx\r\n",
        "\r\n",
        "  return ' '.join(output_sentence)\r\n"
      ],
      "execution_count": null,
      "outputs": []
    },
    {
      "cell_type": "code",
      "metadata": {
        "id": "ZCo6GflGmYno",
        "colab": {
          "base_uri": "https://localhost:8080/"
        },
        "outputId": "a3302572-af8e-4a60-c58a-27d2ae0f7518"
      },
      "source": [
        "\r\n",
        "while True:\r\n",
        "  # Do some test translations\r\n",
        "  i = np.random.choice(len(input_texts))\r\n",
        "  input_seq = encoder_inputs[i:i+1]\r\n",
        "  translation = decode_sequence(input_seq)\r\n",
        "  print('-')\r\n",
        "  print('Input sentence:', input_texts[i])\r\n",
        "  print('Predicted translation:', translation)\r\n",
        "  print('Actual translation:', target_texts[i])\r\n",
        "\r\n",
        "  ans = input(\"Continue? [Y/n]\")\r\n",
        "  if ans and ans.lower().startswith('n'):\r\n",
        "    break"
      ],
      "execution_count": null,
      "outputs": [
        {
          "output_type": "stream",
          "text": [
            "-\n",
            "Input sentence: When should I come again?\n",
            "Predicted translation: میں نہیں نہیں نہیں\n",
            "Actual translation: میں دوبارہ کب آئو؟ <eos>\n",
            "Continue? [Y/n]y\n",
            "-\n",
            "Input sentence: He put the book on the shelf.\n",
            "Predicted translation: اس نے ایک کو کی میں رکھ\n",
            "Actual translation: اس نے کتاب کو الماری میں رکھ دیا۔ <eos>\n",
            "Continue? [Y/n]y\n",
            "-\n",
            "Input sentence: Her beauty was beyond description.\n",
            "Predicted translation: اس نے کو کو کو کا کا کا\n",
            "Actual translation: اس کی خوبصورتی کو بیان کرنا الفاظوں میں ممکن نہیں۔ <eos>\n",
            "Continue? [Y/n]y\n",
            "-\n",
            "Input sentence: My uncle went to Mexico in 1983, never to come back.\n",
            "Predicted translation: میں نے اسے تھا تھا تھا پہنچی۔\n",
            "Actual translation: میرے تایا ۱۹۸۳ میں میکسیکو گئے تھے اور کبھی واپس نہیں آئے۔ <eos>\n",
            "Continue? [Y/n]y\n",
            "-\n",
            "Input sentence: Don't feed the animals.\n",
            "Predicted translation: یہ کو خوشبو ہو ہے۔\n",
            "Actual translation: جانوروں کو کھانا نہ ڈالے۔ <eos>\n",
            "Continue? [Y/n]y\n",
            "-\n",
            "Input sentence: I'm going to study English this afternoon.\n",
            "Predicted translation: میں میں میں میں میں میں ہوں۔ ہوں۔\n",
            "Actual translation: میں شام کو انگریزی پڑھو گا۔ <eos>\n",
            "Continue? [Y/n]y\n",
            "-\n",
            "Input sentence: He was tired so he went to bed.\n",
            "Predicted translation: وہ تھکا تھکا تھا تھا میں میں سونے چلا\n",
            "Actual translation: وہ تھکا ہوا تھا اس لئے وہ سونے چلا گیا ہے۔ <eos>\n",
            "Continue? [Y/n]y\n",
            "-\n",
            "Input sentence: Tom always wants something.\n",
            "Predicted translation: ٹام ٹام کو کو سے سے کر ہے۔\n",
            "Actual translation: ٹام کو ہر وقت کچھ نا کچھ چاہئہے ہوتا ہے۔ <eos>\n",
            "Continue? [Y/n]y\n",
            "-\n",
            "Input sentence: How many plates do you want?\n",
            "Predicted translation: کتنی کتنی پلیٹیں پلیٹیں\n",
            "Actual translation: آپ کو کتنی پلیٹیں چاہیے؟ <eos>\n",
            "Continue? [Y/n]y\n",
            "-\n",
            "Input sentence: You don't look so good.\n",
            "Predicted translation: تم تم نہیں لگ رہے\n",
            "Actual translation: تم کافی بیمار لگ رہے ہو۔ <eos>\n",
            "Continue? [Y/n]y\n",
            "-\n",
            "Input sentence: I don't remember that.\n",
            "Predicted translation: مجھے مجھے پسند پسند\n",
            "Actual translation: مجھے یہ نہیں یاد۔ <eos>\n",
            "Continue? [Y/n]n\n"
          ],
          "name": "stdout"
        }
      ]
    },
    {
      "cell_type": "code",
      "metadata": {
        "id": "Mh7w5kh5mYky"
      },
      "source": [
        ""
      ],
      "execution_count": null,
      "outputs": []
    }
  ]
}