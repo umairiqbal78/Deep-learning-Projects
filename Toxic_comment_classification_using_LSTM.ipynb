{
  "nbformat": 4,
  "nbformat_minor": 0,
  "metadata": {
    "colab": {
      "name": "Toxic_comment_classification_using_LSTM.ipynb",
      "provenance": [],
      "collapsed_sections": [],
      "include_colab_link": true
    },
    "kernelspec": {
      "name": "python3",
      "display_name": "Python 3"
    }
  },
  "cells": [
    {
      "cell_type": "markdown",
      "metadata": {
        "id": "view-in-github",
        "colab_type": "text"
      },
      "source": [
        "<a href=\"https://colab.research.google.com/github/umairiqbal78/Deep-learning-Projects/blob/main/Toxic_comment_classification_using_LSTM.ipynb\" target=\"_parent\"><img src=\"https://colab.research.google.com/assets/colab-badge.svg\" alt=\"Open In Colab\"/></a>"
      ]
    },
    {
      "cell_type": "code",
      "metadata": {
        "id": "Pw7msn-jDa_y"
      },
      "source": [
        "import os\n",
        "import numpy as np\n",
        "import pandas as pd\n",
        "from keras.models import Model\n",
        "from keras.layers import Dense, Embedding, Input\n",
        "from keras.layers import LSTM, Bidirectional, GlobalMaxPool1D, Dropout\n",
        "from keras.preprocessing.text import Tokenizer\n",
        "from keras.preprocessing.sequence import pad_sequences\n",
        "from keras.optimizers import Adam\n",
        "from sklearn.metrics import roc_auc_score # auc means area under curve metric is given to us which is helpful for classification problem"
      ],
      "execution_count": null,
      "outputs": []
    },
    {
      "cell_type": "code",
      "metadata": {
        "colab": {
          "base_uri": "https://localhost:8080/"
        },
        "id": "cMX3OrszFnNm",
        "outputId": "31e3c03b-9c16-4db4-f607-13f2ae659973"
      },
      "source": [
        "\n",
        "from google.colab import drive\n",
        "drive.mount('/content/drive') "
      ],
      "execution_count": null,
      "outputs": [
        {
          "output_type": "stream",
          "text": [
            "Mounted at /content/drive\n"
          ],
          "name": "stdout"
        }
      ]
    },
    {
      "cell_type": "code",
      "metadata": {
        "id": "BiWR8ApvEG5w"
      },
      "source": [
        "# Download the data:\n",
        "# https://www.kaggle.com/c/jigsaw-toxic-comment-classification-challenge\n",
        "# Download the word vectors:\n",
        "# http://nlp.stanford.edu/data/glove.6B.zip"
      ],
      "execution_count": null,
      "outputs": []
    },
    {
      "cell_type": "code",
      "metadata": {
        "id": "agtzoYq8FCB7"
      },
      "source": [
        "# some configuration\n",
        "MAX_SEQUENCE_LENGTH = 100\n",
        "MAX_VOCAB_SIZE = 20000\n",
        "EMBEDDING_DIM = 100 #size of each word vector\n",
        "VALIDATION_SPLIT = 0.2\n",
        "BATCH_SIZE = 128\n",
        "EPOCHS = 10\n"
      ],
      "execution_count": null,
      "outputs": []
    },
    {
      "cell_type": "code",
      "metadata": {
        "colab": {
          "base_uri": "https://localhost:8080/"
        },
        "id": "REl2cky3FFly",
        "outputId": "fd40297e-d56c-4048-b466-7568b0030c0c"
      },
      "source": [
        "\n",
        "# load in pre-trained word vectors\n",
        "print('Loading word vectors...')\n",
        "word2vec = {}\n",
        "with open(os.path.join('/content/drive/MyDrive/Glove_embedding/glove.6B.%sd.txt' % EMBEDDING_DIM)) as f:\n",
        "  # is just a space-separated text file in the format:\n",
        "  # word vec[0] vec[1] vec[2] ...\n",
        "  for line in f:\n",
        "    values = line.split()\n",
        "    word = values[0]\n",
        "    vec = np.asarray(values[1:], dtype='float32')\n",
        "    word2vec[word] = vec\n",
        "print('Found %s word vectors.' % len(word2vec))\n"
      ],
      "execution_count": null,
      "outputs": [
        {
          "output_type": "stream",
          "text": [
            "Loading word vectors...\n",
            "Found 400000 word vectors.\n"
          ],
          "name": "stdout"
        }
      ]
    },
    {
      "cell_type": "code",
      "metadata": {
        "colab": {
          "base_uri": "https://localhost:8080/"
        },
        "id": "8nucLeljGVD-",
        "outputId": "443dee4c-9804-43bb-e503-724a4b12db13"
      },
      "source": [
        "# prepare text samples and their labels\n",
        "print('Loading in comments...')\n",
        "\n",
        "train = pd.read_csv(\"/content/drive/MyDrive/toxic_comments_udemy/train.csv\")\n",
        "sentences = train[\"comment_text\"].fillna(\"DUMMY_VALUE\").values\n",
        "possible_labels = [\"toxic\", \"severe_toxic\", \"obscene\", \"threat\", \"insult\", \"identity_hate\"]\n",
        "targets = train[possible_labels].values\n",
        "len(targets)\n"
      ],
      "execution_count": null,
      "outputs": [
        {
          "output_type": "stream",
          "text": [
            "Loading in comments...\n"
          ],
          "name": "stdout"
        },
        {
          "output_type": "execute_result",
          "data": {
            "text/plain": [
              "159571"
            ]
          },
          "metadata": {
            "tags": []
          },
          "execution_count": 11
        }
      ]
    },
    {
      "cell_type": "code",
      "metadata": {
        "id": "eRqSeRS0HEd6"
      },
      "source": [
        "\n",
        "# convert the sentences (strings) into integers\n",
        "tokenizer = Tokenizer(num_words=MAX_VOCAB_SIZE)\n",
        "tokenizer.fit_on_texts(sentences)\n",
        "sequences = tokenizer.texts_to_sequences(sentences)\n",
        "# print(\"sequences:\", sequences); exit()"
      ],
      "execution_count": null,
      "outputs": []
    },
    {
      "cell_type": "code",
      "metadata": {
        "id": "2p58EjA_HUHw",
        "colab": {
          "base_uri": "https://localhost:8080/"
        },
        "outputId": "6eadf510-1abe-4bd3-dbd9-cfd20ab390f3"
      },
      "source": [
        "print(\"max sequence length:\", max(len(s) for s in sequences))\n",
        "print(\"min sequence length:\", min(len(s) for s in sequences))\n",
        "s = sorted(len(s) for s in sequences)\n",
        "print(\"median sequence length:\", s[len(s) // 2])\n",
        "\n",
        "print(\"max word index:\", max(max(seq) for seq in sequences if len(seq) > 0))\n"
      ],
      "execution_count": null,
      "outputs": [
        {
          "output_type": "stream",
          "text": [
            "max sequence length: 1400\n",
            "min sequence length: 0\n",
            "median sequence length: 35\n",
            "max word index: 19999\n"
          ],
          "name": "stdout"
        }
      ]
    },
    {
      "cell_type": "code",
      "metadata": {
        "colab": {
          "base_uri": "https://localhost:8080/"
        },
        "id": "K79V3cxQ8Udu",
        "outputId": "1530f1aa-c0fb-4fde-e7d7-c688dcbd2631"
      },
      "source": [
        "# get word -> integer mapping\n",
        "word2idx = tokenizer.word_index\n",
        "print('Found %s unique tokens.' % len(word2idx))\n",
        "\n",
        "# exit()"
      ],
      "execution_count": null,
      "outputs": [
        {
          "output_type": "stream",
          "text": [
            "Found 210337 unique tokens.\n"
          ],
          "name": "stdout"
        }
      ]
    },
    {
      "cell_type": "code",
      "metadata": {
        "colab": {
          "base_uri": "https://localhost:8080/"
        },
        "id": "2ibXPIen8wRt",
        "outputId": "603f61f8-91d9-44ee-d046-5562d6b6baea"
      },
      "source": [
        "# pad sequences so that we get a N x T matrix\n",
        "data = pad_sequences(sequences, maxlen=MAX_SEQUENCE_LENGTH)\n",
        "print('Shape of data tensor:', data.shape)"
      ],
      "execution_count": null,
      "outputs": [
        {
          "output_type": "stream",
          "text": [
            "Shape of data tensor: (159571, 100)\n"
          ],
          "name": "stdout"
        }
      ]
    },
    {
      "cell_type": "code",
      "metadata": {
        "colab": {
          "base_uri": "https://localhost:8080/"
        },
        "id": "CA55gkxt8yuW",
        "outputId": "4113dff6-d3e8-456e-87f0-e7e1ff648682"
      },
      "source": [
        "# prepare embedding matrix\n",
        "print('Filling pre-trained embeddings...')\n",
        "num_words = min(MAX_VOCAB_SIZE, len(word2idx) + 1)\n",
        "embedding_matrix = np.zeros((num_words, EMBEDDING_DIM))\n",
        "for word, i in word2idx.items():\n",
        "  if i < MAX_VOCAB_SIZE: \n",
        "    embedding_vector = word2vec.get(word)\n",
        "    if embedding_vector is not None:\n",
        "      # words not found in embedding index will be all zeros.\n",
        "      embedding_matrix[i] = embedding_vector"
      ],
      "execution_count": null,
      "outputs": [
        {
          "output_type": "stream",
          "text": [
            "Filling pre-trained embeddings...\n"
          ],
          "name": "stdout"
        }
      ]
    },
    {
      "cell_type": "code",
      "metadata": {
        "id": "XgLdaB-V86Qn"
      },
      "source": [
        "# load pre-trained word embeddings into an Embedding layer\n",
        "# note that we set trainable = False so as to keep the embeddings fixed\n",
        "embedding_layer = Embedding(\n",
        "  num_words,\n",
        "  EMBEDDING_DIM,\n",
        "  weights=[embedding_matrix],\n",
        "  input_length=MAX_SEQUENCE_LENGTH,\n",
        "  trainable=False\n",
        ")"
      ],
      "execution_count": null,
      "outputs": []
    },
    {
      "cell_type": "code",
      "metadata": {
        "colab": {
          "base_uri": "https://localhost:8080/"
        },
        "id": "ewrlm4fK_nMD",
        "outputId": "75803097-0212-401f-b845-34489010c8d7"
      },
      "source": [
        "print('Building model...')\n",
        "\n",
        "# train a 1D convnet with global maxpooling\n",
        "input_ = Input(shape=(MAX_SEQUENCE_LENGTH,))\n",
        "x = embedding_layer(input_)\n",
        "x = LSTM(15, return_sequences=True)(x)\n",
        "# x = Bidirectional(LSTM(15, return_sequences=True))(x)\n",
        "x = GlobalMaxPool1D()(x)\n",
        "output = Dense(len(possible_labels), activation=\"sigmoid\")(x)\n",
        "\n",
        "model = Model(input_, output)\n",
        "model.compile(\n",
        "  loss='binary_crossentropy',\n",
        "  optimizer= Adam(lr=0.01),\n",
        "  metrics=['accuracy'],\n",
        ")\n",
        "output = Dense(len(possible_labels), activation='sigmoid')(x)"
      ],
      "execution_count": null,
      "outputs": [
        {
          "output_type": "stream",
          "text": [
            "Building model...\n"
          ],
          "name": "stdout"
        }
      ]
    },
    {
      "cell_type": "code",
      "metadata": {
        "colab": {
          "base_uri": "https://localhost:8080/"
        },
        "id": "CdCFRDMI_vfo",
        "outputId": "dc95c71a-5e41-449c-89da-3fef1565b6eb"
      },
      "source": [
        "print('Training model...')\n",
        "r = model.fit(\n",
        "  data,\n",
        "  targets,\n",
        "  batch_size=BATCH_SIZE,\n",
        "  epochs=EPOCHS,\n",
        "  validation_split=VALIDATION_SPLIT\n",
        ")"
      ],
      "execution_count": null,
      "outputs": [
        {
          "output_type": "stream",
          "text": [
            "Training model...\n",
            "Epoch 1/10\n",
            "998/998 [==============================] - 53s 53ms/step - loss: 0.0820 - accuracy: 0.9742 - val_loss: 0.0613 - val_accuracy: 0.9939\n",
            "Epoch 2/10\n",
            "998/998 [==============================] - 59s 59ms/step - loss: 0.0565 - accuracy: 0.9939 - val_loss: 0.0563 - val_accuracy: 0.9937\n",
            "Epoch 3/10\n",
            "998/998 [==============================] - 55s 55ms/step - loss: 0.0541 - accuracy: 0.9928 - val_loss: 0.0564 - val_accuracy: 0.9900\n",
            "Epoch 4/10\n",
            "998/998 [==============================] - 54s 54ms/step - loss: 0.0527 - accuracy: 0.9916 - val_loss: 0.0550 - val_accuracy: 0.9935\n",
            "Epoch 5/10\n",
            "998/998 [==============================] - 55s 56ms/step - loss: 0.0518 - accuracy: 0.9919 - val_loss: 0.0546 - val_accuracy: 0.9881\n",
            "Epoch 6/10\n",
            "998/998 [==============================] - 55s 56ms/step - loss: 0.0513 - accuracy: 0.9920 - val_loss: 0.0548 - val_accuracy: 0.9929\n",
            "Epoch 7/10\n",
            "998/998 [==============================] - 56s 56ms/step - loss: 0.0506 - accuracy: 0.9909 - val_loss: 0.0537 - val_accuracy: 0.9937\n",
            "Epoch 8/10\n",
            "998/998 [==============================] - 56s 56ms/step - loss: 0.0502 - accuracy: 0.9918 - val_loss: 0.0539 - val_accuracy: 0.9933\n",
            "Epoch 9/10\n",
            "998/998 [==============================] - 56s 56ms/step - loss: 0.0498 - accuracy: 0.9914 - val_loss: 0.0538 - val_accuracy: 0.9902\n",
            "Epoch 10/10\n",
            "998/998 [==============================] - 56s 56ms/step - loss: 0.0493 - accuracy: 0.9914 - val_loss: 0.0546 - val_accuracy: 0.9940\n"
          ],
          "name": "stdout"
        }
      ]
    },
    {
      "cell_type": "code",
      "metadata": {
        "colab": {
          "base_uri": "https://localhost:8080/",
          "height": 265
        },
        "id": "c8FKogOs_yaw",
        "outputId": "b166f26d-1160-4084-a93e-ba65b530fef5"
      },
      "source": [
        "# plot some data\n",
        "plt.plot(r.history['loss'], label='loss')\n",
        "plt.plot(r.history['val_loss'], label='val_loss')\n",
        "plt.legend()\n",
        "plt.show()"
      ],
      "execution_count": null,
      "outputs": [
        {
          "output_type": "display_data",
          "data": {
            "image/png": "[encoded data removed]",
            "text/plain": [
              "<Figure size 432x288 with 1 Axes>"
            ]
          },
          "metadata": {
            "tags": [],
            "needs_background": "light"
          }
        }
      ]
    },
    {
      "cell_type": "code",
      "metadata": {
        "colab": {
          "base_uri": "https://localhost:8080/",
          "height": 265
        },
        "id": "T9EvUWGaA2f9",
        "outputId": "65bc8379-d446-4709-885d-78356f244fae"
      },
      "source": [
        "# accuracies\n",
        "plt.plot(r.history['accuracy'], label='acc')\n",
        "plt.plot(r.history['val_accuracy'], label='val_acc')\n",
        "plt.legend()\n",
        "plt.show()"
      ],
      "execution_count": null,
      "outputs": [
        {
          "output_type": "display_data",
          "data": {
            "image/png": "[encoded data removed]",
            "text/plain": [
              "<Figure size 432x288 with 1 Axes>"
            ]
          },
          "metadata": {
            "tags": [],
            "needs_background": "light"
          }
        }
      ]
    },
    {
      "cell_type": "code",
      "metadata": {
        "colab": {
          "base_uri": "https://localhost:8080/"
        },
        "id": "X_C8vxZ_A2P6",
        "outputId": "5e1c375e-f864-462c-bdef-6d4e88f4bd33"
      },
      "source": [
        "# plot the mean AUC over each label\n",
        "p = model.predict(data)\n",
        "print(p)\n",
        "aucs = []\n",
        "for j in range(6):\n",
        "    auc = roc_auc_score(targets[:,j], p[:,j])\n",
        "    aucs.append(auc)\n",
        "print(np.mean(aucs))"
      ],
      "execution_count": null,
      "outputs": [
        {
          "output_type": "stream",
          "text": [
            "[[1.5276968e-03 5.4964890e-05 1.8104911e-04 6.3875785e-05 2.6875734e-04\n",
            "  1.4671683e-04]\n",
            " [1.2642741e-03 6.1570907e-05 1.7663836e-04 6.7041357e-05 2.4443865e-04\n",
            "  1.1085142e-04]\n",
            " [1.5791655e-02 3.0371547e-04 7.6547265e-04 7.6937675e-04 2.3422837e-03\n",
            "  1.5047491e-03]\n",
            " ...\n",
            " [5.2151680e-02 8.7827444e-04 1.2039781e-02 2.1213293e-04 4.5429468e-03\n",
            "  4.3675303e-04]\n",
            " [2.5506705e-02 6.9767237e-04 3.3799112e-03 8.7356567e-04 3.3744872e-03\n",
            "  6.4536929e-04]\n",
            " [5.6576967e-02 6.7037344e-04 7.8153610e-03 4.3410063e-04 7.2504878e-03\n",
            "  1.0481775e-03]]\n",
            "0.9747441132260953\n"
          ],
          "name": "stdout"
        }
      ]
    },
    {
      "cell_type": "code",
      "metadata": {
        "id": "Gj2mQimWA2E5"
      },
      "source": [
        "import pickle\n",
        "\n",
        "modelStoragePath = \"/content/drive/MyDrive/toxic_comments_udemy\"\n",
        "\n",
        "def saveData(model, r , iteration):\n",
        "    modelFile = modelStoragePath + \"model_LSTM_toxic_comments_model\" + str(iteration).strip() + \".h5\"\n",
        "    rFile = modelStoragePath + \"_History_LSTM_toxic_comments_model\" + str(iteration).strip() + \".pkle\"\n",
        "    model.save(modelFile)\n",
        "    #saving r  file too\n",
        "    with open(rFile, 'wb') as file_pi:\n",
        "        pickle.dump(r.history, file_pi)\n",
        "    return modelFile, rFile\n",
        "\n",
        "import tensorflow.keras.models\n",
        "def loadData(iteration):\n",
        "    modelFile = modelStoragePath + \"model_LSTM_toxic_comments_model\" + str(iteration).strip() + \".h5\"\n",
        "    rFile = modelStoragePath + \"_History_LSTM_toxic_comments_model\" + str(iteration).strip() + \".pkle\"\n",
        "    model = models.load_model(modelFile)\n",
        "    with open(rFile, 'rb') as file_pi:\n",
        "        r  = pickle.load(file_pi)\n",
        "    return model,  r"
      ],
      "execution_count": null,
      "outputs": []
    },
    {
      "cell_type": "code",
      "metadata": {
        "id": "mTXj1h84A11R",
        "colab": {
          "base_uri": "https://localhost:8080/"
        },
        "outputId": "adee637e-6d30-4773-fada-8dbd3ad230e5"
      },
      "source": [
        "print(type(r))\n",
        "modelFile, rFile = saveData(model, r, iteration=1)\n",
        "print(modelFile, rFile, \"Saved\")"
      ],
      "execution_count": null,
      "outputs": [
        {
          "output_type": "stream",
          "text": [
            "<class 'tensorflow.python.keras.callbacks.History'>\n",
            "/content/drive/MyDrive/toxic_comments_udemymodel_LSTM_toxic_comments_model1.h5 /content/drive/MyDrive/toxic_comments_udemy_History_LSTM_toxic_comments_model1.pkle Saved\n"
          ],
          "name": "stdout"
        }
      ]
    },
    {
      "cell_type": "code",
      "metadata": {
        "id": "_y3ECebd6QRd",
        "colab": {
          "base_uri": "https://localhost:8080/"
        },
        "outputId": "492cb88f-9d47-477a-c0d2-3e9880a964d1"
      },
      "source": [
        "print('Building model...')\n",
        "\n",
        "\n",
        "input_ = Input(shape=(MAX_SEQUENCE_LENGTH,))\n",
        "x = embedding_layer(input_)\n",
        "# x = LSTM(15, return_sequences=True)(x)\n",
        "x = Bidirectional(LSTM(15, return_sequences=True))(x)\n",
        "x = GlobalMaxPool1D()(x)\n",
        "output = Dense(len(possible_labels), activation=\"sigmoid\")(x)\n",
        "\n",
        "model = Model(input_, output)\n",
        "model.compile(\n",
        "  loss='binary_crossentropy',\n",
        "  optimizer= Adam(lr=0.01),\n",
        "  metrics=['accuracy'],\n",
        ")\n",
        "output = Dense(len(possible_labels), activation='sigmoid')(x)"
      ],
      "execution_count": null,
      "outputs": [
        {
          "output_type": "stream",
          "text": [
            "Building model...\n"
          ],
          "name": "stdout"
        }
      ]
    },
    {
      "cell_type": "code",
      "metadata": {
        "colab": {
          "base_uri": "https://localhost:8080/"
        },
        "id": "R1LIwnZKMso6",
        "outputId": "e00eb99e-a74f-4150-d75e-8b0b36ddd91d"
      },
      "source": [
        "model.summary()"
      ],
      "execution_count": null,
      "outputs": [
        {
          "output_type": "stream",
          "text": [
            "Model: \"functional_1\"\n",
            "_________________________________________________________________\n",
            "Layer (type)                 Output Shape              Param #   \n",
            "=================================================================\n",
            "input_1 (InputLayer)         [(None, 100)]             0         \n",
            "_________________________________________________________________\n",
            "embedding (Embedding)        (None, 100, 100)          2000000   \n",
            "_________________________________________________________________\n",
            "bidirectional (Bidirectional (None, 100, 30)           13920     \n",
            "_________________________________________________________________\n",
            "global_max_pooling1d (Global (None, 30)                0         \n",
            "_________________________________________________________________\n",
            "dense (Dense)                (None, 6)                 186       \n",
            "=================================================================\n",
            "Total params: 2,014,106\n",
            "Trainable params: 14,106\n",
            "Non-trainable params: 2,000,000\n",
            "_________________________________________________________________\n"
          ],
          "name": "stdout"
        }
      ]
    },
    {
      "cell_type": "code",
      "metadata": {
        "colab": {
          "base_uri": "https://localhost:8080/"
        },
        "id": "nAA4i_TIMs9s",
        "outputId": "b618d01f-57b7-4cf9-8bc0-7b28ea72b89c"
      },
      "source": [
        "print('Training model...')\n",
        "r = model.fit(\n",
        "  data,\n",
        "  targets,\n",
        "  batch_size=BATCH_SIZE,\n",
        "  epochs=EPOCHS,\n",
        "  validation_split=VALIDATION_SPLIT\n",
        ")"
      ],
      "execution_count": null,
      "outputs": [
        {
          "output_type": "stream",
          "text": [
            "Training model...\n",
            "Epoch 1/10\n",
            "998/998 [==============================] - 92s 92ms/step - loss: 0.0715 - accuracy: 0.9649 - val_loss: 0.0573 - val_accuracy: 0.9926\n",
            "Epoch 2/10\n",
            "998/998 [==============================] - 92s 92ms/step - loss: 0.0538 - accuracy: 0.9766 - val_loss: 0.0552 - val_accuracy: 0.9911\n",
            "Epoch 3/10\n",
            "998/998 [==============================] - 92s 92ms/step - loss: 0.0503 - accuracy: 0.9720 - val_loss: 0.0525 - val_accuracy: 0.8053\n",
            "Epoch 4/10\n",
            "998/998 [==============================] - 92s 92ms/step - loss: 0.0485 - accuracy: 0.9601 - val_loss: 0.0522 - val_accuracy: 0.9845\n",
            "Epoch 5/10\n",
            "998/998 [==============================] - 92s 92ms/step - loss: 0.0473 - accuracy: 0.9580 - val_loss: 0.0521 - val_accuracy: 0.9346\n",
            "Epoch 6/10\n",
            "998/998 [==============================] - 92s 93ms/step - loss: 0.0465 - accuracy: 0.9472 - val_loss: 0.0522 - val_accuracy: 0.9885\n",
            "Epoch 7/10\n",
            "998/998 [==============================] - 92s 92ms/step - loss: 0.0455 - accuracy: 0.9228 - val_loss: 0.0510 - val_accuracy: 0.9821\n",
            "Epoch 8/10\n",
            "998/998 [==============================] - 92s 92ms/step - loss: 0.0448 - accuracy: 0.9305 - val_loss: 0.0521 - val_accuracy: 0.9046\n",
            "Epoch 9/10\n",
            "998/998 [==============================] - 92s 92ms/step - loss: 0.0450 - accuracy: 0.9232 - val_loss: 0.0518 - val_accuracy: 0.9214\n",
            "Epoch 10/10\n",
            "998/998 [==============================] - 92s 92ms/step - loss: 0.0442 - accuracy: 0.9120 - val_loss: 0.0517 - val_accuracy: 0.9366\n"
          ],
          "name": "stdout"
        }
      ]
    },
    {
      "cell_type": "code",
      "metadata": {
        "colab": {
          "base_uri": "https://localhost:8080/",
          "height": 265
        },
        "id": "ounl9IXvMs9t",
        "outputId": "1e34dfd9-ceae-4c7e-91b6-63f7277b5395"
      },
      "source": [
        "import matplotlib.pyplot as plt\n",
        "\n",
        "# plot some data\n",
        "plt.plot(r.history['loss'], label='loss')\n",
        "plt.plot(r.history['val_loss'], label='val_loss')\n",
        "plt.legend()\n",
        "plt.show()"
      ],
      "execution_count": null,
      "outputs": [
        {
          "output_type": "display_data",
          "data": {
            "image/png": "[encoded data removed]",
            "text/plain": [
              "<Figure size 432x288 with 1 Axes>"
            ]
          },
          "metadata": {
            "tags": [],
            "needs_background": "light"
          }
        }
      ]
    },
    {
      "cell_type": "code",
      "metadata": {
        "colab": {
          "base_uri": "https://localhost:8080/",
          "height": 267
        },
        "id": "0H2vUGh-Ms9t",
        "outputId": "4fc46a54-f132-42d6-b970-886b6d1af9c2"
      },
      "source": [
        "# accuracies\n",
        "plt.plot(r.history['accuracy'], label='acc')\n",
        "plt.plot(r.history['val_accuracy'], label='val_acc')\n",
        "plt.legend()\n",
        "plt.show()"
      ],
      "execution_count": null,
      "outputs": [
        {
          "output_type": "display_data",
          "data": {
            "image/png": "[encoded data removed]",
            "text/plain": [
              "<Figure size 432x288 with 1 Axes>"
            ]
          },
          "metadata": {
            "tags": [],
            "needs_background": "light"
          }
        }
      ]
    },
    {
      "cell_type": "code",
      "metadata": {
        "colab": {
          "base_uri": "https://localhost:8080/"
        },
        "id": "nJlpr3qfMs9t",
        "outputId": "9b4ce65b-9e44-4da0-9160-badb40cec40a"
      },
      "source": [
        "# plot the mean AUC over each label\n",
        "p = model.predict(data)\n",
        "print(p)\n",
        "aucs = []\n",
        "for j in range(6):\n",
        "    auc = roc_auc_score(targets[:,j], p[:,j])\n",
        "    aucs.append(auc)\n",
        "print(np.mean(aucs))"
      ],
      "execution_count": null,
      "outputs": [
        {
          "output_type": "stream",
          "text": [
            "[[3.75589728e-03 7.42109914e-05 2.40880251e-03 1.42395496e-04\n",
            "  1.88046694e-03 7.72021085e-05]\n",
            " [3.49819660e-04 5.93040249e-06 1.10658446e-04 1.74510376e-06\n",
            "  1.35898590e-04 6.60499882e-06]\n",
            " [7.00950623e-04 5.97132612e-06 1.52379274e-04 1.01323599e-06\n",
            "  1.15054179e-04 5.71003147e-06]\n",
            " ...\n",
            " [2.82128513e-01 7.51495361e-04 5.91973662e-02 3.15653051e-05\n",
            "  1.93812549e-02 1.12870336e-03]\n",
            " [1.82482600e-03 1.50605374e-05 4.29481268e-04 4.85403780e-06\n",
            "  3.47644091e-04 2.29654543e-05]\n",
            " [1.91991031e-02 1.68025494e-04 2.40355730e-03 4.74807675e-05\n",
            "  2.41878629e-03 1.35689974e-04]]\n",
            "0.985002049468679\n"
          ],
          "name": "stdout"
        }
      ]
    },
    {
      "cell_type": "code",
      "metadata": {
        "id": "3nhJY43XMs9t"
      },
      "source": [
        "import pickle\n",
        "\n",
        "modelStoragePath = \"/content/drive/MyDrive/toxic_comments_udemy/\"\n",
        "\n",
        "def saveData(model, r , iteration):\n",
        "    modelFile = modelStoragePath + \"model_Bidirectional_LSTM_toxic_comments_model\" + str(iteration).strip() + \".h5\"\n",
        "    rFile = modelStoragePath + \"_History_Bidirectional_LSTM_toxic_comments_model\" + str(iteration).strip() + \".pkle\"\n",
        "    model.save(modelFile)\n",
        "    #saving r  file too\n",
        "    with open(rFile, 'wb') as file_pi:\n",
        "        pickle.dump(r.history, file_pi)\n",
        "    return modelFile, rFile\n",
        "\n",
        "import tensorflow.keras.models\n",
        "def loadData(iteration):\n",
        "    modelFile = modelStoragePath + \"model_Bidirectional_LSTM_toxic_comments_model\" + str(iteration).strip() + \".h5\"\n",
        "    rFile = modelStoragePath + \"_History_Bidirectional_LSTM_toxic_comments_model\" + str(iteration).strip() + \".pkle\"\n",
        "    model = models.load_model(modelFile)\n",
        "    with open(rFile, 'rb') as file_pi:\n",
        "        r  = pickle.load(file_pi)\n",
        "    return model,  r"
      ],
      "execution_count": null,
      "outputs": []
    },
    {
      "cell_type": "code",
      "metadata": {
        "colab": {
          "base_uri": "https://localhost:8080/"
        },
        "id": "G881-HdNMs9t",
        "outputId": "06a99348-8729-4b69-f209-a2894d8d7a07"
      },
      "source": [
        "print(type(r))\n",
        "modelFile, rFile = saveData(model, r, iteration=1)\n",
        "print(modelFile, rFile, \"Saved\")"
      ],
      "execution_count": null,
      "outputs": [
        {
          "output_type": "stream",
          "text": [
            "<class 'tensorflow.python.keras.callbacks.History'>\n",
            "/content/drive/MyDrive/toxic_comments_udemymodel_Bidirectional_LSTM_toxic_comments_model1.h5 /content/drive/MyDrive/toxic_comments_udemy_History_Bidirectional_LSTM_toxic_comments_model1.pkle Saved\n"
          ],
          "name": "stdout"
        }
      ]
    },
    {
      "cell_type": "code",
      "metadata": {
        "id": "47xtQ-WZRWsJ"
      },
      "source": [
        ""
      ],
      "execution_count": null,
      "outputs": []
    }
  ]
}